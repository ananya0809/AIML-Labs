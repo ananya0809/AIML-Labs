{
  "nbformat": 4,
  "nbformat_minor": 0,
  "metadata": {
    "colab": {
      "name": "SVM.ipynb",
      "provenance": [],
      "collapsed_sections": []
    },
    "kernelspec": {
      "name": "python3",
      "display_name": "Python 3"
    }
  },
  "cells": [
    {
      "cell_type": "markdown",
      "source": [
        "# CC 3230( AI  and Machine Learning Lab.)\n",
        "Date:- 21.03.2022( 9:00 - 10:30 AM)\n",
        "Week-9\n",
        "Technique: Support Vector Machine \n",
        "Problem: SVM\n",
        "\n",
        "Name: Ananya Agrawal\n",
        "\n",
        "Registration Number: 199303010\n",
        "\n",
        "#### Title: CC3230 A-1\n",
        "\n",
        "Submission Date: 11/04/2022"
      ],
      "metadata": {
        "id": "Y9_pG8THy2xp"
      }
    },
    {
      "cell_type": "markdown",
      "source": [
        "### About SVM\n",
        "\n",
        "Support Vector Machine or SVM is one of the most popular Supervised Learning algorithms, which is used for Classification as well as Regression problems. However, primarily, it is used for Classification problems in Machine Learning.\n",
        "\n",
        "The goal of the SVM algorithm is to create the best line or decision boundary that can segregate n-dimensional space into classes so that we can easily put the new data point in the correct category in the future. This best decision boundary is called a hyperplane.\n",
        "\n",
        "SVM chooses the extreme points/vectors that help in creating the hyperplane. These extreme cases are called as support vectors, and hence algorithm is termed as Support Vector Machine.\n",
        "\n",
        "#### Support Vectors:\n",
        "\n",
        "The data points or vectors that are the closest to the hyperplane and which affect the position of the hyperplane are termed as Support Vector. Since these vectors support the hyperplane, hence called a Support vector."
      ],
      "metadata": {
        "id": "xtYwZSgkZpjj"
      }
    },
    {
      "cell_type": "markdown",
      "source": [
        "#### SVM Kernel Functions:\n",
        "\n",
        "SVM algorithms use a set of mathematical functions that are defined as the kernel. The function of kernel is to take data as input and transform it into the required form. Different SVM algorithms use different types of kernel functions. These functions can be different types.\n",
        "\n",
        "For example linear, nonlinear, polynomial, gaussian, radial basis function (RBF), and sigmoid.\n",
        "\n",
        "Introduce Kernel functions for sequence data, graphs, text, images, as well as vectors. The most used type of kernel function is RBF. Because it has localized and finite response along the entire x-axis.\n",
        "\n",
        "The kernel functions return the inner product between two points in a suitable feature space. Thus by defining a notion of similarity, with little computational cost even in very high-dimensional spaces."
      ],
      "metadata": {
        "id": "aMRSpbsZifaY"
      }
    },
    {
      "cell_type": "markdown",
      "source": [
        "### Polynomial Kernel"
      ],
      "metadata": {
        "id": "jujrT1psq1AO"
      }
    },
    {
      "cell_type": "code",
      "metadata": {
        "id": "xQECx1_Kis5T",
        "colab": {
          "base_uri": "https://localhost:8080/"
        },
        "outputId": "5599c5b8-ebb3-437d-95d3-2e8de8218e22"
      },
      "source": [
        "#Importing Libraries\n",
        "import numpy as np\n",
        "import matplotlib.pyplot as plt\n",
        "import pandas as pd\n",
        "#Importing the Dataset\n",
        "url = \"https://archive.ics.uci.edu/ml/machine-learning-databases/iris/iris.data\"\n",
        "\n",
        "# Assign colum names to the dataset\n",
        "colnames = ['sepal-length', 'sepal-width', 'petal-length', 'petal-width', 'Class']\n",
        "\n",
        "# Read dataset to pandas dataframe\n",
        "irisdata = pd.read_csv(url, names=colnames)\n",
        "#Preprocessing\n",
        "X = irisdata.drop('Class', axis=1)\n",
        "y = irisdata['Class']\n",
        "#Train Test Split\n",
        "from sklearn.model_selection import train_test_split\n",
        "X_train, X_test, y_train, y_test = train_test_split(X, y, test_size = 0.20)\n",
        "#Polynomial Kernel\n",
        "from sklearn.svm import SVC\n",
        "svclassifier = SVC(kernel='poly', degree=2)\n",
        "svclassifier.fit(X_train, y_train)\n",
        "#Making Predictions\n",
        "y_pred = svclassifier.predict(X_test)\n",
        "#Evaluating the Algorithm\n",
        "from sklearn.metrics import classification_report, confusion_matrix\n",
        "print(confusion_matrix(y_test, y_pred))\n",
        "print(classification_report(y_test, y_pred))\n"
      ],
      "execution_count": null,
      "outputs": [
        {
          "output_type": "stream",
          "name": "stdout",
          "text": [
            "[[11  0  0]\n",
            " [ 0  5  2]\n",
            " [ 0  1 11]]\n",
            "                 precision    recall  f1-score   support\n",
            "\n",
            "    Iris-setosa       1.00      1.00      1.00        11\n",
            "Iris-versicolor       0.83      0.71      0.77         7\n",
            " Iris-virginica       0.85      0.92      0.88        12\n",
            "\n",
            "       accuracy                           0.90        30\n",
            "      macro avg       0.89      0.88      0.88        30\n",
            "   weighted avg       0.90      0.90      0.90        30\n",
            "\n"
          ]
        }
      ]
    },
    {
      "cell_type": "markdown",
      "metadata": {
        "id": "HdSiqmLxkdH2"
      },
      "source": [
        "Exercise"
      ]
    },
    {
      "cell_type": "markdown",
      "metadata": {
        "id": "FkRv-MqHkfxD"
      },
      "source": [
        "Try following kernels and compare the performance.\n",
        "Gaussian Kernel, Sigmoid Kernel"
      ]
    },
    {
      "cell_type": "markdown",
      "source": [
        "### Gaussian Kernel"
      ],
      "metadata": {
        "id": "QguJE3Vpq8Jp"
      }
    },
    {
      "cell_type": "code",
      "source": [
        "from sklearn.svm import SVC\n",
        "svclassifier = SVC(kernel='rbf')\n",
        "svclassifier.fit(X_train, y_train)\n",
        "#Making Predictions\n",
        "y_pred = svclassifier.predict(X_test)\n",
        "#Evaluating the Algorithm\n",
        "from sklearn.metrics import classification_report, confusion_matrix\n",
        "print(confusion_matrix(y_test, y_pred))\n",
        "print(classification_report(y_test, y_pred)) "
      ],
      "metadata": {
        "colab": {
          "base_uri": "https://localhost:8080/"
        },
        "id": "h1XOhQAbq_g4",
        "outputId": "12b6884d-85d4-4024-be05-9ef38799ad45"
      },
      "execution_count": null,
      "outputs": [
        {
          "output_type": "stream",
          "name": "stdout",
          "text": [
            "[[11  0  0]\n",
            " [ 0  6  1]\n",
            " [ 0  1 11]]\n",
            "                 precision    recall  f1-score   support\n",
            "\n",
            "    Iris-setosa       1.00      1.00      1.00        11\n",
            "Iris-versicolor       0.86      0.86      0.86         7\n",
            " Iris-virginica       0.92      0.92      0.92        12\n",
            "\n",
            "       accuracy                           0.93        30\n",
            "      macro avg       0.92      0.92      0.92        30\n",
            "   weighted avg       0.93      0.93      0.93        30\n",
            "\n"
          ]
        }
      ]
    },
    {
      "cell_type": "markdown",
      "source": [
        "### Sigmoid Kernel"
      ],
      "metadata": {
        "id": "73OSfW9drRFu"
      }
    },
    {
      "cell_type": "code",
      "source": [
        "from sklearn.svm import SVC\n",
        "svclassifier = SVC(kernel='sigmoid')\n",
        "svclassifier.fit(X_train, y_train)\n",
        "#Making Predictions\n",
        "y_pred = svclassifier.predict(X_test)\n",
        "#Evaluating the Algorithm\n",
        "from sklearn.metrics import classification_report, confusion_matrix\n",
        "print(confusion_matrix(y_test, y_pred))\n",
        "print(classification_report(y_test, y_pred))"
      ],
      "metadata": {
        "colab": {
          "base_uri": "https://localhost:8080/"
        },
        "id": "UCLfUgG2rT6m",
        "outputId": "3e51468f-5d2b-4524-ada9-302f0f841545"
      },
      "execution_count": null,
      "outputs": [
        {
          "output_type": "stream",
          "name": "stdout",
          "text": [
            "[[ 0 11  0]\n",
            " [ 0  7  0]\n",
            " [ 0 12  0]]\n",
            "                 precision    recall  f1-score   support\n",
            "\n",
            "    Iris-setosa       0.00      0.00      0.00        11\n",
            "Iris-versicolor       0.23      1.00      0.38         7\n",
            " Iris-virginica       0.00      0.00      0.00        12\n",
            "\n",
            "       accuracy                           0.23        30\n",
            "      macro avg       0.08      0.33      0.13        30\n",
            "   weighted avg       0.05      0.23      0.09        30\n",
            "\n"
          ]
        },
        {
          "output_type": "stream",
          "name": "stderr",
          "text": [
            "/usr/local/lib/python3.7/dist-packages/sklearn/metrics/_classification.py:1318: UndefinedMetricWarning: Precision and F-score are ill-defined and being set to 0.0 in labels with no predicted samples. Use `zero_division` parameter to control this behavior.\n",
            "  _warn_prf(average, modifier, msg_start, len(result))\n",
            "/usr/local/lib/python3.7/dist-packages/sklearn/metrics/_classification.py:1318: UndefinedMetricWarning: Precision and F-score are ill-defined and being set to 0.0 in labels with no predicted samples. Use `zero_division` parameter to control this behavior.\n",
            "  _warn_prf(average, modifier, msg_start, len(result))\n",
            "/usr/local/lib/python3.7/dist-packages/sklearn/metrics/_classification.py:1318: UndefinedMetricWarning: Precision and F-score are ill-defined and being set to 0.0 in labels with no predicted samples. Use `zero_division` parameter to control this behavior.\n",
            "  _warn_prf(average, modifier, msg_start, len(result))\n"
          ]
        }
      ]
    },
    {
      "cell_type": "markdown",
      "source": [
        "### Spam Classification"
      ],
      "metadata": {
        "id": "W0zue2rGvmPk"
      }
    },
    {
      "cell_type": "code",
      "source": [
        "#Importing Libraries\n",
        "import numpy as np\n",
        "import pandas as pd\n",
        "import matplotlib.pyplot as plt\n",
        "from sklearn.feature_extraction.text import CountVectorizer\n",
        "from sklearn.model_selection import GridSearchCV\n",
        "from sklearn import svm\n",
        "#Importing the Dataset\n",
        "data = pd.read_csv('spam.csv',encoding='latin-1')\n",
        "#Check info of data\n",
        "data.info()\n",
        "#Splitting data into x and y\n",
        "x = data['Email'].values\n",
        "y = data['Label'].values\n",
        "#Splitting data into training and testing\n",
        "from sklearn.model_selection import train_test_split\n",
        "x_train, x_test, y_train, y_test = train_test_split(x, y, test_size=0.2, random_state=0)\n",
        "#Converting string into integer using CountVectorizer()\n",
        "cv = CountVectorizer()\n",
        "x_train = cv.fit_transform(x_train)\n",
        "x_test = cv.transform(x_test)\n",
        "#Applying SVM algo\n",
        "from sklearn.svm import SVC\n",
        "classifier = SVC(kernel = 'rbf', random_state=0)\n",
        "classifier.fit(x_train, y_train)\n",
        "#Calculating Accuracy\n",
        "print(classifier.score(x_test,y_test))"
      ],
      "metadata": {
        "colab": {
          "base_uri": "https://localhost:8080/"
        },
        "id": "cdYfq4eAvoxs",
        "outputId": "e8bc4324-c8a5-4c7d-c6b6-a7216d8e41b6"
      },
      "execution_count": null,
      "outputs": [
        {
          "output_type": "stream",
          "name": "stdout",
          "text": [
            "<class 'pandas.core.frame.DataFrame'>\n",
            "RangeIndex: 5572 entries, 0 to 5571\n",
            "Data columns (total 5 columns):\n",
            " #   Column      Non-Null Count  Dtype \n",
            "---  ------      --------------  ----- \n",
            " 0   Label       5572 non-null   object\n",
            " 1   Email       5572 non-null   object\n",
            " 2   Unnamed: 2  50 non-null     object\n",
            " 3   Unnamed: 3  12 non-null     object\n",
            " 4   Unnamed: 4  6 non-null      object\n",
            "dtypes: object(5)\n",
            "memory usage: 217.8+ KB\n",
            "0.9766816143497757\n"
          ]
        }
      ]
    }
  ]
}