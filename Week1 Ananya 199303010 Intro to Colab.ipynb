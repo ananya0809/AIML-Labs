{
  "cells": [
    {
      "cell_type": "markdown",
      "metadata": {
        "id": "r9p4WWSlDR-x"
      },
      "source": [
        "# **CC3230**\n",
        "##AI and Machine Learning\n",
        "## Laboratory Session 1: 24/01/2022\n",
        "\n",
        "<hr>\n",
        "<hr>\n",
        "\n",
        "# Introduction to Google Colab\n",
        "\n",
        "\n"
      ]
    },
    {
      "cell_type": "code",
      "execution_count": null,
      "metadata": {
        "id": "wWh4bchoDH-w",
        "colab": {
          "base_uri": "https://localhost:8080/"
        },
        "outputId": "e7344e72-6944-44d3-d07b-1eca702ca07b"
      },
      "outputs": [
        {
          "output_type": "stream",
          "name": "stdout",
          "text": [
            "Drive already mounted at /content/drive; to attempt to forcibly remount, call drive.mount(\"/content/drive\", force_remount=True).\n"
          ]
        }
      ],
      "source": [
        "from google.colab import drive\n",
        "drive.mount('/content/drive')"
      ]
    },
    {
      "cell_type": "markdown",
      "metadata": {
        "id": "9LL59uHQDgod"
      },
      "source": [
        "### What is Google Colab?\n",
        "\n",
        "Google Colab is a Python development environment that runs in the browser using Google Cloud. It comes with a host of pre-installed python packages which is extremely helpful in running simple projects. Furthermore, colab also allows us to run Linux commands allowing users to install libraries and other requirements if needed.\n",
        "\n",
        "Let us first run some simple Python programs to get started with this excercise."
      ]
    },
    {
      "cell_type": "markdown",
      "metadata": {
        "id": "uysLVR2jWaRw"
      },
      "source": [
        "### Hello World Code"
      ]
    },
    {
      "cell_type": "code",
      "execution_count": null,
      "metadata": {
        "colab": {
          "base_uri": "https://localhost:8080/"
        },
        "id": "6wQC7MlBBnML",
        "outputId": "fc7b9975-180a-4550-c9ec-50de3f781dc6"
      },
      "outputs": [
        {
          "output_type": "stream",
          "name": "stdout",
          "text": [
            "Hello world! This is my first python program!\n"
          ]
        }
      ],
      "source": [
        "# Running a simple print statement\n",
        "print (\"Hello world! This is my first python program!\")"
      ]
    },
    {
      "cell_type": "markdown",
      "metadata": {
        "id": "pHotaZtTWc-g"
      },
      "source": [
        "### Taking user inputs"
      ]
    },
    {
      "cell_type": "code",
      "execution_count": null,
      "metadata": {
        "colab": {
          "base_uri": "https://localhost:8080/"
        },
        "id": "uO4tXlpLWiOw",
        "outputId": "b068fb4e-3906-4b14-fd95-b53ee494183f"
      },
      "outputs": [
        {
          "output_type": "stream",
          "name": "stdout",
          "text": [
            "Enter the first number: 2\n",
            "Enter the second number: 3\n",
            "The sum of two numbers:  5\n"
          ]
        }
      ],
      "source": [
        "# We read two numbers in two variables and perform simple addition\n",
        "num1 = int(input(\"Enter the first number: \"))\n",
        "num2 = int(input(\"Enter the second number: \"))\n",
        "\n",
        "print (\"The sum of two numbers: \", num1+num2)"
      ]
    },
    {
      "cell_type": "markdown",
      "metadata": {
        "id": "xkTJ9DMNX86I"
      },
      "source": [
        "### Writing if statements and functions in Python"
      ]
    },
    {
      "cell_type": "code",
      "execution_count": null,
      "metadata": {
        "id": "6SjMueSSW9QY"
      },
      "outputs": [],
      "source": [
        "# Defining a function\n",
        "# Function name is greater\n",
        "# Input params X and Y\n",
        "def greater(X, Y):\n",
        "  if X > Y:\n",
        "    print (\"{} is greater than {}\".format(X,Y))\n",
        "  \n",
        "  elif X == Y:\n",
        "    print (\"{} is equal to {}\".format(X, Y))\n",
        "\n",
        "  else:\n",
        "    print (\"{} is less than {}\".format(X, Y))"
      ]
    },
    {
      "cell_type": "code",
      "execution_count": null,
      "metadata": {
        "colab": {
          "base_uri": "https://localhost:8080/"
        },
        "id": "3R0uFiGNd0kS",
        "outputId": "df2f4bdf-23bb-4942-ae21-7a73eaa0c695"
      },
      "outputs": [
        {
          "output_type": "stream",
          "name": "stdout",
          "text": [
            "2 is less than 3\n"
          ]
        }
      ],
      "source": [
        "# Calling the function from here\n",
        "greater (2, 3)"
      ]
    },
    {
      "cell_type": "markdown",
      "metadata": {
        "id": "Bs3usWa56Ffh"
      },
      "source": [
        "You can test the above function with your own two numbers."
      ]
    },
    {
      "cell_type": "markdown",
      "metadata": {
        "id": "hh0oqCS2d-u-"
      },
      "source": [
        "### Loops in python"
      ]
    },
    {
      "cell_type": "markdown",
      "metadata": {
        "id": "Uxg21Hrhjf7o"
      },
      "source": [
        "#### For loop"
      ]
    },
    {
      "cell_type": "code",
      "execution_count": null,
      "metadata": {
        "colab": {
          "base_uri": "https://localhost:8080/"
        },
        "id": "DWFaDI2WeyIw",
        "outputId": "c5d7ec3d-1e3f-4e85-81b4-5e998b2d2c0c"
      },
      "outputs": [
        {
          "output_type": "stream",
          "name": "stdout",
          "text": [
            "Sum of numbers from 1 to 100 =  5050\n"
          ]
        }
      ],
      "source": [
        " # For loop in python\n",
        " sum = 0\n",
        "\n",
        " # for (int i=0; i<101; i++) in C/C++\n",
        " for i in range (1, 101, 1):\n",
        "   sum = sum + i\n",
        "\n",
        "# Printing the sum\n",
        "print (\"Sum of numbers from 1 to 100 = \", sum)\n"
      ]
    },
    {
      "cell_type": "markdown",
      "metadata": {
        "id": "xAFTL7bNjh6_"
      },
      "source": [
        "#### While loop"
      ]
    },
    {
      "cell_type": "code",
      "execution_count": null,
      "metadata": {
        "colab": {
          "base_uri": "https://localhost:8080/"
        },
        "id": "lbDfm3vyjlUo",
        "outputId": "d7ecff97-ea6d-47d3-b526-b8069e57d32a"
      },
      "outputs": [
        {
          "output_type": "stream",
          "name": "stdout",
          "text": [
            "Sum of numbers from 1 to 100 =  5050\n"
          ]
        }
      ],
      "source": [
        "# While loop in python\n",
        "sum = 0\n",
        "i = 1\n",
        "\n",
        "while (i < 101):\n",
        "  sum = sum + i\n",
        "  i += 1\n",
        "\n",
        "# Printing the sum\n",
        "print (\"Sum of numbers from 1 to 100 = \", sum)"
      ]
    },
    {
      "cell_type": "markdown",
      "metadata": {
        "id": "Kuup1AAgk7WI"
      },
      "source": [
        "### Numpy arrays\n",
        "Numpy arrays are essential and widely used in python codes. These are extremely helpful since they provide support functions that are useful when doing Machine Learning.\n",
        "\n",
        "Here, you will also see an import statement. This statement makes the entire numpy package available and we can access those symbols using the abbreviated 'np' syntax."
      ]
    },
    {
      "cell_type": "code",
      "execution_count": null,
      "metadata": {
        "colab": {
          "base_uri": "https://localhost:8080/"
        },
        "id": "Ae_L0XMmo7BR",
        "outputId": "4f0a5e23-e954-449e-d523-6d99fa4c4e63"
      },
      "outputs": [
        {
          "output_type": "stream",
          "name": "stdout",
          "text": [
            "Current array: ['Hello' 'World' '!']\n",
            "Printing each element\n",
            "Hello\n",
            "World\n",
            "!\n",
            "\n",
            "Printing each element and their index\n",
            "Index: 0, was: Hello\n",
            "Index: 1, was: World\n",
            "Index: 2, was: !\n"
          ]
        }
      ],
      "source": [
        "import numpy as np  # Make numpy available using np.\n",
        "\n",
        "# Create a numpy array, and append an element\n",
        "a = np.array([\"Hello\", \"World\"])\n",
        "a = np.append(a, \"!\")\n",
        "print(\"Current array: {}\".format(a))\n",
        "print(\"Printing each element\")\n",
        "for i in a:\n",
        "  print(i)\n",
        "\n",
        "print(\"\\nPrinting each element and their index\")\n",
        "for i,e in enumerate(a):\n",
        "  print(\"Index: {}, was: {}\".format(i, e))"
      ]
    },
    {
      "cell_type": "code",
      "execution_count": null,
      "metadata": {
        "colab": {
          "base_uri": "https://localhost:8080/"
        },
        "id": "bLG4o4hKpIFY",
        "outputId": "64ef06ce-5989-43c0-b032-8d3c147acace"
      },
      "outputs": [
        {
          "output_type": "stream",
          "name": "stdout",
          "text": [
            "\n",
            "Showing some basic math on arrays\n",
            "Max: 4\n",
            "Average: 2.0\n",
            "Max index: 2\n"
          ]
        }
      ],
      "source": [
        "print(\"\\nShowing some basic math on arrays\")\n",
        "b = np.array([0,1,4,3,2])\n",
        "print(\"Max: {}\".format(np.max(b)))\n",
        "print(\"Average: {}\".format(np.average(b)))\n",
        "print(\"Max index: {}\".format(np.argmax(b)))"
      ]
    },
    {
      "cell_type": "markdown",
      "metadata": {
        "id": "Bx7pyaO3kApQ"
      },
      "source": [
        "### Running Linux commands \n",
        "\n",
        "We can run simple linux commands. The commands must start with an `!`. Few examples of the commands are given below."
      ]
    },
    {
      "cell_type": "code",
      "execution_count": null,
      "metadata": {
        "colab": {
          "base_uri": "https://localhost:8080/"
        },
        "id": "YSitlk_gkAMh",
        "outputId": "b0d287fb-4b09-4c25-ccc2-3e2896c13c71"
      },
      "outputs": [
        {
          "output_type": "stream",
          "name": "stdout",
          "text": [
            "/content\n",
            "drive  pic.jpeg  sample_data  test1.txt\n"
          ]
        }
      ],
      "source": [
        "# Checking the present working directory.\n",
        "!pwd\n",
        "\n",
        "# Listing the contents of the present working directory\n",
        "!ls\n",
        "\n",
        "# Creating a new file\n",
        "!echo \"Hello this is a dummy file\" >> test1.txt\n"
      ]
    },
    {
      "cell_type": "markdown",
      "metadata": {
        "id": "U3TqwHJ96Yo5"
      },
      "source": [
        "Let us display the test1.txt file using the `cat` command. "
      ]
    },
    {
      "cell_type": "code",
      "execution_count": null,
      "metadata": {
        "colab": {
          "base_uri": "https://localhost:8080/"
        },
        "id": "6gNwSLty5ic3",
        "outputId": "e69de17c-4e8c-489b-fa52-da0f55cb221a"
      },
      "outputs": [
        {
          "output_type": "stream",
          "name": "stdout",
          "text": [
            "Hello this is a dummy file\n",
            "Hello this is a dummy file\n"
          ]
        }
      ],
      "source": [
        "# Lets display the content of the test file we wrote\n",
        "!cat test1.txt"
      ]
    },
    {
      "cell_type": "markdown",
      "metadata": {
        "id": "Iupx9ELpAH3l"
      },
      "source": [
        "### Downloading files using wget\n",
        "\n",
        "We can also download files directly from the web using `wget`. This is a sample link of a picture randomly selected from Google images. `wget` is extensively used to download datasets and other resources from the web to a colab notebook."
      ]
    },
    {
      "cell_type": "code",
      "execution_count": null,
      "metadata": {
        "colab": {
          "base_uri": "https://localhost:8080/"
        },
        "id": "tUEp6TcvAdtE",
        "outputId": "1940cc6e-99db-4de9-df30-e53116e033a5"
      },
      "outputs": [
        {
          "output_type": "stream",
          "name": "stdout",
          "text": [
            "--2022-01-31 06:44:30--  https://images.unsplash.com/photo-1593062096033-9a26b09da705?ixlib=rb-1.2.1&ixid=MnwxMjA3fDB8MHxzZWFyY2h8M3x8d29yayUyMGRlc2t8ZW58MHx8MHx8&w=1000&q=80\n",
            "Resolving images.unsplash.com (images.unsplash.com)... 199.232.78.208, 2a04:4e42:53::720\n",
            "Connecting to images.unsplash.com (images.unsplash.com)|199.232.78.208|:443... connected.\n",
            "HTTP request sent, awaiting response... 200 OK\n",
            "Length: 55257 (54K) [image/jpeg]\n",
            "Saving to: ‘pic.jpeg’\n",
            "\n",
            "\rpic.jpeg              0%[                    ]       0  --.-KB/s               \rpic.jpeg            100%[===================>]  53.96K  --.-KB/s    in 0.01s   \n",
            "\n",
            "2022-01-31 06:44:30 (5.33 MB/s) - ‘pic.jpeg’ saved [55257/55257]\n",
            "\n"
          ]
        }
      ],
      "source": [
        "# The syntax is !wget \"url\"\n",
        "!wget \"https://images.unsplash.com/photo-1593062096033-9a26b09da705?ixlib=rb-1.2.1&ixid=MnwxMjA3fDB8MHxzZWFyY2h8M3x8d29yayUyMGRlc2t8ZW58MHx8MHx8&w=1000&q=80\" -O pic.jpeg"
      ]
    },
    {
      "cell_type": "markdown",
      "metadata": {
        "id": "3yCXrBvuKtDU"
      },
      "source": [
        "You can try downloading images, text files or anything that is available online using this command."
      ]
    },
    {
      "cell_type": "markdown",
      "metadata": {
        "id": "Z5t_2FvEpUGw"
      },
      "source": [
        "### Mounting Google Drive\n",
        "\n",
        "We can mount Google drive in Google colab. There are multiple ways of doing this. We will use a simple code snippet to do this though. Please run the following snippet. Please provide permission to all of the requested materials. Click on the tick mark for each of the requested permissions and then hit next. Google drive will then get mounted."
      ]
    },
    {
      "cell_type": "code",
      "execution_count": null,
      "metadata": {
        "colab": {
          "base_uri": "https://localhost:8080/"
        },
        "id": "kWXA_tvpqEFw",
        "outputId": "234f94d1-6053-4fd8-ca84-440d86659c63"
      },
      "outputs": [
        {
          "output_type": "stream",
          "name": "stdout",
          "text": [
            "Mounted at /content/gdrive\n"
          ]
        }
      ],
      "source": [
        "from google.colab import drive\n",
        "drive.mount('/content/gdrive')"
      ]
    },
    {
      "cell_type": "markdown",
      "metadata": {
        "id": "nfRagx8dqt0S"
      },
      "source": [
        "Let us check the directory structure"
      ]
    },
    {
      "cell_type": "code",
      "execution_count": null,
      "metadata": {
        "id": "NTB75NEOqtao"
      },
      "outputs": [],
      "source": [
        "!ls\n",
        "\n",
        "# For doing cd, we need to use the % symbol instead of the !\n",
        "%cd gdrive\n",
        "\n",
        "!ls\n",
        "\n",
        "%cd MyDrive \n",
        "\n",
        "!ls"
      ]
    },
    {
      "cell_type": "markdown",
      "metadata": {
        "id": "y-A4tG8OsKqr"
      },
      "source": [
        "### Unmounting Google Drive"
      ]
    },
    {
      "cell_type": "markdown",
      "metadata": {
        "id": "4nCdPsP8183I"
      },
      "source": [
        "We can also unmount the Google drive similarly. Please type the following commands."
      ]
    },
    {
      "cell_type": "code",
      "execution_count": null,
      "metadata": {
        "id": "oaI_H1KZsM2I"
      },
      "outputs": [],
      "source": [
        "from google.colab import drive\n",
        "drive.flush_and_unmount()"
      ]
    },
    {
      "cell_type": "markdown",
      "metadata": {
        "id": "jmWwZl2Yrwao"
      },
      "source": [
        "# Basic Machine Learning: Linear Classification\n",
        "\n",
        "We finish this tutorial by doing some basic linear classification in Google colab. We will be creating a dummy 2D dataset which will be then classified using a linear classifier."
      ]
    },
    {
      "cell_type": "markdown",
      "metadata": {
        "id": "26BwNiGU9ZF4"
      },
      "source": [
        "#### Importing the necessary packages"
      ]
    },
    {
      "cell_type": "code",
      "execution_count": null,
      "metadata": {
        "id": "Aer1uXxd5fcw"
      },
      "outputs": [],
      "source": [
        "# Importing the datasets from sklearn\n",
        "from sklearn.datasets import make_blobs\n",
        "\n",
        "# Importing a simple linear classifier from sklearn\n",
        "from sklearn.linear_model import Perceptron\n",
        "\n",
        "# Package required for plotting\n",
        "import matplotlib.pyplot as plt\n",
        "\n",
        "# To create the train and test split\n",
        "from sklearn.model_selection import train_test_split\n",
        "\n",
        "# To calculate the accuracy\n",
        "from sklearn.metrics import accuracy_score"
      ]
    },
    {
      "cell_type": "markdown",
      "metadata": {
        "id": "BgryiJrI9nFB"
      },
      "source": [
        "#### Creating a simple dataset"
      ]
    },
    {
      "cell_type": "markdown",
      "metadata": {
        "id": "k4gIMxoW97qo"
      },
      "source": [
        "We create a simple dataset for demonstration purposes. The dataset is kept to be linearly separable. We will then use a simple classification algorithm to classify the points."
      ]
    },
    {
      "cell_type": "code",
      "execution_count": null,
      "metadata": {
        "id": "oA_TBsIk9qC3",
        "colab": {
          "base_uri": "https://localhost:8080/",
          "height": 282
        },
        "outputId": "b44b70ca-439f-429e-8aca-d87d6bb4b4bc"
      },
      "outputs": [
        {
          "output_type": "execute_result",
          "data": {
            "text/plain": [
              "<matplotlib.collections.PathCollection at 0x7f60d133aa10>"
            ]
          },
          "metadata": {},
          "execution_count": 4
        },
        {
          "output_type": "display_data",
          "data": {
            "image/png": "[encoded data removed]",
            "text/plain": [
              "<Figure size 432x288 with 1 Axes>"
            ]
          },
          "metadata": {
            "needs_background": "light"
          }
        }
      ],
      "source": [
        "# Creating a blob dataset\n",
        "# Please change cluster_std parameter and check what happens!\n",
        "X,y = make_blobs(centers=2, n_samples=500, random_state=0, cluster_std=0.5)\n",
        "\n",
        "# Splitting the data in train and test splits.\n",
        "X_train, X_test, y_train, y_test = train_test_split(X, y, test_size=0.2, random_state=42)\n",
        "\n",
        "# Plotting the created training set\n",
        "plt.scatter(X_train[:,0], X_train[:,1])"
      ]
    },
    {
      "cell_type": "markdown",
      "metadata": {
        "id": "vBvaJyzCYBVB"
      },
      "source": [
        "The train set is plotted above. We also plot the test set for the dataset we created."
      ]
    },
    {
      "cell_type": "code",
      "execution_count": null,
      "metadata": {
        "id": "PnqfQzgXYLYK",
        "colab": {
          "base_uri": "https://localhost:8080/",
          "height": 282
        },
        "outputId": "81151aa4-ae5e-4788-c936-9c92bf18c604"
      },
      "outputs": [
        {
          "output_type": "execute_result",
          "data": {
            "text/plain": [
              "<matplotlib.collections.PathCollection at 0x7f60d133a7d0>"
            ]
          },
          "metadata": {},
          "execution_count": 5
        },
        {
          "output_type": "display_data",
          "data": {
            "image/png": "[encoded data removed]",
            "text/plain": [
              "<Figure size 432x288 with 1 Axes>"
            ]
          },
          "metadata": {
            "needs_background": "light"
          }
        }
      ],
      "source": [
        "# Plotting the created dataset\n",
        "plt.scatter(X_test[:,0], X_test[:,1])"
      ]
    },
    {
      "cell_type": "markdown",
      "metadata": {
        "id": "QeK9t8sMse2R"
      },
      "source": [
        "### Perceptron\n",
        "\n",
        "A perceptron is a neural network unit (an artificial neuron) that does certain computations to detect patterns in the input data and make desired decisions like which class the input belongs to?\n",
        "\n",
        "Perceptron was introduced by Frank Rosenblatt in 1957. He proposed a Perceptron learning rule based on the original MCP neuron. A Perceptron is an algorithm for supervised learning of binary classifiers. This algorithm enables neurons to learn and processes elements in the training set one at a time.\n",
        "\n",
        "There are two types of Perceptrons: Single layer and Multilayer.\n",
        "\n",
        "1. Single layer - Single layer perceptrons can learn only linearly separable patterns.\n",
        "\n",
        "2. Multilayer - Multilayer perceptrons or feedforward neural networks with two or more layers have the greater processing power.\n",
        "\n",
        "The Perceptron algorithm learns the weights for the input signals in order to draw a linear decision boundary.\n",
        "\n",
        "This enables you to distinguish between the two linearly separable classes +1 and -1. However, with some tricky changes, the algorithm can be modified for multi-class classification as well.\n",
        "\n",
        "In the modern sense, the perceptron is an algorithm for learning a binary classifier called a threshold function: a function that maps its input $ X $ to an output value $f(X)$ (a single binary value):\n",
        "\n",
        "![image.png](data:image/png;base64,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)\n",
        "\n",
        "where $w$ is a real valued weight vector and $b$ is the bias.\n"
      ]
    },
    {
      "cell_type": "markdown",
      "metadata": {
        "id": "L52soFEE9tki"
      },
      "source": [
        "The perceptron learning rule works by accounting for the prediction error generated when the perceptron attempts to classify a particular instance of labelled input data. In particular the rule amplifies the weights (connections) that lead to a minimisation of the error.\n",
        "\n",
        "As single training instances are provided to the perceptron a prediction is made. If an incorrect classification is generated—compared to the correct 'ground truth' label—the weights that would have led to a correct prediction are reinforced.\n",
        "\n",
        "In this manner the weights are iteratively shifted as more training samples are fed into the perceptron until an optimal solution is found.\n",
        "\n",
        "Mathematically, it can be thought as - \n",
        "\n",
        "\\begin{eqnarray}\n",
        "w_i^{n+1} = w_i^n + \\eta (y - \\hat{y}) x_i\n",
        "\\end{eqnarray}\n",
        "\n",
        "Where,\n",
        "* $w_i^n$ is the $i$th weight at step $n$.\n",
        "* $x_i$ is the $i$th component of the current training input data.\n",
        "* $y$ is the ground-truth label for this input data.\n",
        "* $\\hat{y}$ is the prediction from the model.\n",
        "* $\\eta$ is the learing rate which decides how fast the model trains. Generally kept at $10^{-3}$."
      ]
    },
    {
      "cell_type": "markdown",
      "metadata": {
        "id": "kfKX6Fvv-GCI"
      },
      "source": [
        "#### Training a simple Perceptron algorithm\n",
        "We train a Perceptron algorithm on the training set. We will then use the test set to calculate accuracy as well as plot the classes of each point in the test set."
      ]
    },
    {
      "cell_type": "code",
      "execution_count": null,
      "metadata": {
        "id": "l6H1FlkW_azo"
      },
      "outputs": [],
      "source": [
        "# Defining the perceptron algorithm\n",
        "clf = Perceptron(tol=1e-3, random_state=0)\n",
        "\n",
        "# Training the algorithm on the train data\n",
        "clf.fit(X_train, y_train)\n",
        "\n",
        "# Predicting the labels on the test set\n",
        "pred_labels = clf.predict(X_test)"
      ]
    },
    {
      "cell_type": "markdown",
      "metadata": {
        "id": "CStQD9c2YjcS"
      },
      "source": [
        "### Calculating the Accuracy\n",
        "We now calculate the accuracy metric for the above test set. We have predicted all the labels in the previous code snippets. We, thus, use the ground-truth `y_test` to calculate the accuracy."
      ]
    },
    {
      "cell_type": "code",
      "execution_count": null,
      "metadata": {
        "id": "fLrXyL5oZ4KW",
        "colab": {
          "base_uri": "https://localhost:8080/"
        },
        "outputId": "4d22b74b-ce34-4f85-add7-2bb51010f31d"
      },
      "outputs": [
        {
          "output_type": "stream",
          "name": "stdout",
          "text": [
            "Accuracy:  1.0\n"
          ]
        }
      ],
      "source": [
        "acc = accuracy_score(y_test, pred_labels)\n",
        "print (\"Accuracy: \", acc)"
      ]
    },
    {
      "cell_type": "markdown",
      "metadata": {
        "id": "vihJ_xthamN6"
      },
      "source": [
        "The accuracy of the model here is $100\\%$. Please note that, here the dataset was extremely simple leading to this result. Please change the `cluster_std=0.5` parameter (present in the `make_blobs` function written above for creating the dataset) and check how it affects the data plots and the accuracy.  "
      ]
    },
    {
      "cell_type": "markdown",
      "metadata": {
        "id": "tRXnGwlCBSiA"
      },
      "source": [
        "#### Plotting the results.\n",
        "\n",
        "We use labels generated by the algorithm to plot each data point."
      ]
    },
    {
      "cell_type": "code",
      "execution_count": null,
      "metadata": {
        "id": "YC9Ff2A2AxOx",
        "colab": {
          "base_uri": "https://localhost:8080/",
          "height": 265
        },
        "outputId": "733e0143-6b5a-415c-b910-b55a330766f4"
      },
      "outputs": [
        {
          "output_type": "display_data",
          "data": {
            "image/png": "[encoded data removed]",
            "text/plain": [
              "<Figure size 432x288 with 1 Axes>"
            ]
          },
          "metadata": {
            "needs_background": "light"
          }
        }
      ],
      "source": [
        "# Color the samples using the labels generated by the perceptron\n",
        "plt.scatter(X_test[:,0],X_test[:,1], c=pred_labels, cmap='viridis');"
      ]
    },
    {
      "cell_type": "markdown",
      "metadata": {
        "id": "93SyXsAoBbKf"
      },
      "source": [
        "## Exercises you can try\n",
        "\n",
        "1. Find the max and min in a numpy array. You can use `np.max()` and `np.min()` function. Create a random array of integers using `arr = np.random.randint(low=your_choice, high=your_choice, size=num_elements)`.\n",
        "\n",
        "2. Create a folder called `test_folder` using the `mkdir` command. Change directory from the current folder to the `test_folder` using the `%cd` command. Write three files inside the folder. Use `ls` to list the contents of the folder.\n",
        "\n",
        "3. Write a function using Python which takes one number as a parameter and returns whether its prime or not. If you want to find the square-root of a number, you may do `from math import sqrt`. The function can then be called as `sqrt(num)`\n",
        "\n",
        "4. Use the `make_moons` function to create another type of dataset and check the performance of the perceptron algorithm. Please comment on the performance of the algorithm too. The code snippet to load the dataset is given below. The ground-truth labels are used to color code each class. How is this dataset different from the one we used above?"
      ]
    },
    {
      "cell_type": "markdown",
      "source": [
        "**24-01-22**"
      ],
      "metadata": {
        "id": "70G52PJFfu9d"
      }
    },
    {
      "cell_type": "markdown",
      "source": [
        "Q1. Find the max and min in a numpy array. You can use np.max() and np.min() function. Create a random array of integers using arr = np.random.randint(low=your_choice, high=your_choice, size=num_elements)."
      ],
      "metadata": {
        "id": "BdRzSQjCcmBi"
      }
    },
    {
      "cell_type": "code",
      "source": [
        "import numpy as np\n",
        "\n",
        "arr = np.random.randint(low=1, high=100, size=10)\n",
        "print(arr)\n",
        "print(\"maximum number is {}\".format(np.max(arr)))\n",
        "print(\"minimum number is {}\".format(np.min(arr)))"
      ],
      "metadata": {
        "id": "LTL61-H0cgXh",
        "colab": {
          "base_uri": "https://localhost:8080/"
        },
        "outputId": "2808e5dd-cf75-472e-c3aa-49601aebf0a9"
      },
      "execution_count": null,
      "outputs": [
        {
          "output_type": "stream",
          "name": "stdout",
          "text": [
            "[ 4 58 47 72 38 85 88 41 32 23]\n",
            "maximum number is 88\n",
            "minimum number is 4\n"
          ]
        }
      ]
    },
    {
      "cell_type": "markdown",
      "source": [
        "Q2. Create a folder called test_folder using the mkdir command. Change directory from the current folder to the test_folder using the %cd command. Write three files inside the folder. Use ls to list the contents of the folder.\n",
        "\n"
      ],
      "metadata": {
        "id": "QLYHbv0m_Mu7"
      }
    },
    {
      "cell_type": "code",
      "source": [
        "!mkdir test_folder\n",
        "%cd test_folder\n",
        "!echo \"File 1\" >> file1.txt\n",
        "!echo \"File 2\" >> file2.txt\n",
        "!echo \"File 3\" >> file3.txt\n",
        "!ls"
      ],
      "metadata": {
        "id": "FM4YIGZk_Ui_",
        "colab": {
          "base_uri": "https://localhost:8080/"
        },
        "outputId": "5774ded0-e268-44b1-d510-c8975a638106"
      },
      "execution_count": null,
      "outputs": [
        {
          "output_type": "stream",
          "name": "stdout",
          "text": [
            "/content/test_folder\n",
            "file1.txt  file2.txt  file3.txt\n"
          ]
        }
      ]
    },
    {
      "cell_type": "markdown",
      "source": [
        "Q3. Write a function using Python which takes one number as a parameter and returns whether its prime or not. If you want to find the square-root of a number, you may do from math import sqrt. The function can then be called as sqrt(num)"
      ],
      "metadata": {
        "id": "tFm9SePmAuoG"
      }
    },
    {
      "cell_type": "code",
      "source": [
        "import math\n",
        "number = int(input(\"Enter a number: \"))\n",
        "flag = 0\n",
        "if number > 1:\n",
        "  for i in range(2,number-1):\n",
        "    if (number % i) == 0:\n",
        "      flag = 1\n",
        "  if flag == 0:\n",
        "    print(format(number) + \" is prime\")\n",
        "  else:\n",
        "    print(format(number) + \" is not prime\")\n",
        "numsqroot = math.sqrt(number)\n",
        "print(\"The square root of {} is {}\".format(number,numsqroot))"
      ],
      "metadata": {
        "id": "6-PfaxnCBE9J",
        "colab": {
          "base_uri": "https://localhost:8080/"
        },
        "outputId": "74bc833b-f737-4d9a-8ff0-a7e3a88da951"
      },
      "execution_count": null,
      "outputs": [
        {
          "output_type": "stream",
          "name": "stdout",
          "text": [
            "Enter a number: 17\n",
            "17 is prime\n",
            "The square root of 17 is 4.123105625617661\n"
          ]
        }
      ]
    },
    {
      "cell_type": "markdown",
      "source": [
        "Q4. Use the make_moons function to create another type of dataset and check the performance of the perceptron algorithm. Please comment on the performance of the algorithm too. The code snippet to load the dataset is given below. The ground-truth labels are used to color code each class. How is this dataset different from the one we used above?"
      ],
      "metadata": {
        "id": "1IpcUpiL4Goq"
      }
    },
    {
      "cell_type": "code",
      "execution_count": null,
      "metadata": {
        "id": "pSvtWiZZyo1z",
        "colab": {
          "base_uri": "https://localhost:8080/",
          "height": 282
        },
        "outputId": "ef38cda7-702a-4321-a30f-2a53e5aaab2d"
      },
      "outputs": [
        {
          "output_type": "execute_result",
          "data": {
            "text/plain": [
              "<matplotlib.collections.PathCollection at 0x7f60d0daff10>"
            ]
          },
          "metadata": {},
          "execution_count": 9
        },
        {
          "output_type": "display_data",
          "data": {
            "image/png": "[encoded data removed]",
            "text/plain": [
              "<Figure size 432x288 with 1 Axes>"
            ]
          },
          "metadata": {
            "needs_background": "light"
          }
        }
      ],
      "source": [
        "# Importing the function to create the moons\n",
        "from sklearn.datasets import make_moons\n",
        "\n",
        "# Creating the dataset\n",
        "X_moon, y_moon = make_moons(n_samples=500) \n",
        "\n",
        "# Plotting the created dataset and coloring them with the ground-truth labels\n",
        "plt.scatter(X_moon[:,0], X_moon[:,1], c=y_moon, cmap='viridis')\n"
      ]
    }
  ],
  "metadata": {
    "colab": {
      "name": "CC3230_Week_1.ipynb",
      "provenance": []
    },
    "kernelspec": {
      "display_name": "Python 3",
      "name": "python3"
    },
    "language_info": {
      "name": "python"
    }
  },
  "nbformat": 4,
  "nbformat_minor": 0
}