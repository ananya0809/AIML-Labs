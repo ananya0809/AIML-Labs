{
  "nbformat": 4,
  "nbformat_minor": 0,
  "metadata": {
    "colab": {
      "name": "week3.ipynb",
      "provenance": [],
      "collapsed_sections": []
    },
    "kernelspec": {
      "name": "python3",
      "display_name": "Python 3"
    },
    "language_info": {
      "name": "python"
    }
  },
  "cells": [
    {
      "cell_type": "markdown",
      "source": [
        "# CC 3230( AI  and Machine Learning Lab.)\n",
        "Date:- 07.02.2022( 9:00- 10:30 AM)\n",
        "Week-3\n",
        "Technique: A* algorithm \n",
        "Problem: Single Shortest Path Problem (SSP)\n",
        "\n",
        "Name: Ananya Agrawal\n",
        "\n",
        "Registration Number: 199303010\n",
        "\n",
        "#### Title: CC3230 A-2( Apply A* algorithm on Single Shortest Path Problem (SSP))\n",
        "\n",
        "Submission Date: 13/02/2022"
      ],
      "metadata": {
        "id": "fbbtX2_UC8uQ"
      }
    },
    {
      "cell_type": "markdown",
      "source": [
        "### About A* Algorithm\n",
        "\n",
        "A* algorithm works based on heuristic methods and this helps achieve optimality. \n",
        "\n",
        "A* is a different form of the Best-First algorithm. \n",
        "\n",
        "Best-First Search is not able to consider the cost of traversal, it only looks at the heuristics.\n",
        "\n",
        "To counter this shortcoming of BFS, A* algorithm is implemented.\n",
        "\n",
        "A* Algorithm is a summation of heuristics and actual path costs, i.e., it is a combination of Dijkstra Algorithm and Best-First Search Technique.\n",
        "\n",
        "When A* enters into a problem, firstly it calculates the cost to travel to the neighbouring nodes and chooses the node with the lowest cost. \n",
        "\n",
        "If The f(n) denotes the cost, A* chooses the node with the lowest f(n) value. Here ‘n’ denotes the neighbouring nodes.\n",
        "\n",
        "**f(n)=g(n)+h(n)f(n)=g(n)+h(n)**\n",
        "\n",
        "g(n) = shows the shortest path’s value from the starting node to node n\n",
        "\n",
        "h(n) = The heuristic approximation of the value of the node\n",
        "\n",
        "Here, the heuristic value has an important role in the efficiency of the A* algorithm. A* is thus, a more rational algorithm.\n"
      ],
      "metadata": {
        "id": "T23OtwifW5fL"
      }
    },
    {
      "cell_type": "markdown",
      "source": [
        "### Single-Source Shortest Path Problem\n",
        "\n",
        "The Single-Source Shortest Path (SSSP) problem consists of finding the shortest paths between a given vertex 'v' and all other vertices in the graph.\n",
        "\n",
        "Algorithms such as A* and Dijkstra for weighted graphs can solve this problem.\n",
        "\n",
        "Here, we are given a Graph G = (V, E) and we want to find the shortest path from a given source vertex s ∈ V to every vertex v ∈ V.\n",
        "\n",
        "The distances between each pair of nodes are known, and this is a minimization problem with the goal to find the optimal path with least cost of traversal.\n",
        "\n"
      ],
      "metadata": {
        "id": "8rjdLGiYG2z4"
      }
    },
    {
      "cell_type": "markdown",
      "source": [
        "### Procedure\n",
        "\n",
        "1. Firstly, add the beginning node to the open list\n",
        "\n",
        "2. Then repeat the following step:\n",
        "\n",
        "    – In the open list, find the node with the lowest f() cost. This denotes the current node.\n",
        "\n",
        "    – Now we move to the closed list.\n",
        "\n",
        "3. Ignore it if it is on the closed list, or if it is not workable. Do the following if it is workable\n",
        "\n",
        "    - Check if it is on the open list; if not, add it. You need to make the current node as this node's parent. You will now record the different costs of the nodes like the f() , g() and h() costs. \n",
        "\n",
        "4. If it is on the open list, use g() cost to measure the better path. Lower the g() cost, the better the path. If this path is better, make the current node as the parent node. Now you need to recalculate the other scores, the g() and f() scores of this node.\n",
        "\n",
        "**You’ll stop:**\n",
        "- If you find the path, you need to check the closed list and add the target node to it.\n",
        "\n",
        "- There is no path if the open list is empty and you could not find the target node.\n",
        "\n",
        "5. Now you can save the path and work backwards starting from the target node, going to the parent node from each node you go, till it takes you to the starting node. You’ve found your path now.  "
      ],
      "metadata": {
        "id": "J6fZsqTSHS-9"
      }
    },
    {
      "cell_type": "code",
      "execution_count": null,
      "metadata": {
        "colab": {
          "base_uri": "https://localhost:8080/"
        },
        "id": "ATE2tctCVb0x",
        "outputId": "c4d0ea60-3dd2-48fe-d34d-c9cc32a43999"
      },
      "outputs": [
        {
          "output_type": "stream",
          "name": "stdout",
          "text": [
            "Path found: ['A', 'B', 'C', 'G']\n",
            "Distance between every other node {'A': 0, 'B': 2, 'E': 3, 'C': 3, 'G': 4, 'D': 9}\n",
            "Number of times a node is explored while traversing = 3\n"
          ]
        }
      ],
      "source": [
        "def aStarAlgo(start_node, stop_node):\n",
        "         \n",
        "        open_set = set(start_node) \n",
        "        closed_set = set()\n",
        "        g = {} #store distance from starting node\n",
        "        parents = {}# parents contains an adjacency map of all nodes\n",
        " \n",
        "        #distance of starting node from itself is zero\n",
        "        g[start_node] = 0\n",
        "        #start_node is root node i.e it has no parent nodes\n",
        "        #so start_node is set to its own parent node\n",
        "        parents[start_node] = start_node\n",
        "         \n",
        "         \n",
        "        while len(open_set) > 0:\n",
        "            n = None\n",
        " \n",
        "            #node with lowest f() is found\n",
        "            for v in open_set:\n",
        "                if n == None or g[v] + heuristic(v) < g[n] + heuristic(n):\n",
        "                    n = v\n",
        "             \n",
        "                     \n",
        "            if n == stop_node or Graph_nodes[n] == None:\n",
        "                pass\n",
        "            else:\n",
        "                for (m, weight) in get_neighbors(n):\n",
        "                    #nodes 'm' not in first and last set are added to first\n",
        "                    #n is set its parent\n",
        "                    if m not in open_set and m not in closed_set:\n",
        "                        open_set.add(m)\n",
        "                        parents[m] = n\n",
        "                        g[m] = g[n] + weight\n",
        "                         \n",
        "     \n",
        "                    #for each node m,compare its distance from start i.e g(m) to the\n",
        "                    #from start through n node\n",
        "                    else:\n",
        "                        if g[m] > g[n] + weight:\n",
        "                            #update g(m)\n",
        "                            g[m] = g[n] + weight\n",
        "                            #change parent of m to n\n",
        "                            parents[m] = n\n",
        "                             \n",
        "                            #if m in closed set,remove and add to open\n",
        "                            if m in closed_set:\n",
        "                                closed_set.remove(m)\n",
        "                                open_set.add(m)\n",
        " \n",
        "            if n == None:\n",
        "                print('Path does not exist!')\n",
        "                return None\n",
        " \n",
        "            # if the current node is the stop_node\n",
        "            # then we begin reconstructin the path from it to the start_node\n",
        "            if n == stop_node:\n",
        "                path = []\n",
        " \n",
        "                while parents[n] != n:\n",
        "                    path.append(n)\n",
        "                    n = parents[n]\n",
        " \n",
        "                path.append(start_node)\n",
        " \n",
        "                path.reverse()\n",
        " \n",
        "                print('Path found: {}'.format(path))\n",
        "                print(\"Distance between every other node \" + str(g))\n",
        "                return path\n",
        " \n",
        " \n",
        "            # remove n from the open_list, and add it to closed_list\n",
        "            # because all of his neighbors were inspected\n",
        "            open_set.remove(n)\n",
        "            closed_set.add(n)\n",
        " \n",
        "        print('Path does not exist!')\n",
        "        return None\n",
        "count_nodes_Astar = 0       \n",
        "#define fuction to return neighbor and its distance\n",
        "#from the passed node\n",
        "def get_neighbors(v):\n",
        "    global count_nodes_Astar\n",
        "    if v in Graph_nodes:\n",
        "        count_nodes_Astar += 1\n",
        "        return Graph_nodes[v]\n",
        "    else:\n",
        "        return None\n",
        "#for simplicity we ll consider heuristic distances given\n",
        "#and this function returns heuristic distance for all nodes\n",
        "def heuristic(n):\n",
        "        H_dist = {\n",
        "            'A': 11,\n",
        "            'B': 6,\n",
        "            'C': 4,\n",
        "            'D': 1,\n",
        "            'E': 7,\n",
        "            'G': 0,\n",
        "        }\n",
        " \n",
        "        return H_dist[n]\n",
        " \n",
        "#Describe your graph here  \n",
        "Graph_nodes = {\n",
        "    'A': [('B', 2), ('E', 3)],\n",
        "    'B': [('C', 1),('G', 9),('D', 7)],\n",
        "    'C': [('G', 1)],\n",
        "    'E': [('D', 6)],\n",
        "    'D': [('G', 1)],\n",
        "}\n",
        "aStarAlgo('A', 'G')\n",
        "print(\"Number of times a node is explored while traversing = \" + str(count_nodes_Astar))"
      ]
    },
    {
      "cell_type": "markdown",
      "source": [
        "### Dijkstra Algorithm\n",
        "\n",
        "Djikstra's Algorithm is a popular optimal path traversal algorithm which serves to solve the Single Source Shortest Path Problem. It works by constantly calculating the cost to reach a node in a graph while simultaneously exploring (almost) all possible nodes. Due to this huge amount of exploration it provides an accurate solution regarding the shortest path from source node to destination node."
      ],
      "metadata": {
        "id": "nM_93UjIMl08"
      }
    },
    {
      "cell_type": "markdown",
      "source": [
        "#### The Graph Class"
      ],
      "metadata": {
        "id": "8Uy22cCmPKdw"
      }
    },
    {
      "cell_type": "code",
      "source": [
        "import sys\n",
        " \n",
        "class Graph(object):\n",
        "    def __init__(self, nodes, init_graph):\n",
        "        self.nodes = nodes\n",
        "        self.graph = self.construct_graph(nodes, init_graph)\n",
        "        \n",
        "    def construct_graph(self, nodes, init_graph):\n",
        "        \n",
        "        #This method makes sure that the graph is symmetrical. \n",
        "        #In other words, if there's a path from node A to B with a value V, there needs to be a path from node B to node A with a value V.\n",
        "        \n",
        "        graph = {}\n",
        "        for node in nodes:\n",
        "            graph[node] = {}\n",
        "        \n",
        "        graph.update(init_graph)\n",
        "        \n",
        "        for node, edges in graph.items():\n",
        "            for adjacent_node, value in edges.items():\n",
        "                if graph[adjacent_node].get(node, False) == False:\n",
        "                    graph[adjacent_node][node] = value\n",
        "                    \n",
        "        return graph\n",
        "    \n",
        "    def get_nodes(self):\n",
        "        #Returns the nodes of the graph.\n",
        "        return self.nodes\n",
        "    \n",
        "    def get_outgoing_edges(self, node):\n",
        "        #Returns the neighbors of a node.\n",
        "        connections = []\n",
        "        for out_node in self.nodes:\n",
        "            if self.graph[node].get(out_node, False) != False:\n",
        "                connections.append(out_node)\n",
        "        return connections\n",
        "    \n",
        "    def value(self, node1, node2):\n",
        "        #Returns the value of an edge between two nodes.\n",
        "        return self.graph[node1][node2]\n",
        "\n",
        "# Reference: https://www.udacity.com/blog/2021/10/implementing-dijkstras-algorithm-in-python.html"
      ],
      "metadata": {
        "id": "WAKoExN2hJzE"
      },
      "execution_count": null,
      "outputs": []
    },
    {
      "cell_type": "markdown",
      "source": [
        "#### Dijkstra Algorithm in Action for a specified Graph"
      ],
      "metadata": {
        "id": "38ROv1LcPN3V"
      }
    },
    {
      "cell_type": "code",
      "source": [
        "count_nodes_dijkstra = 0\n",
        "\n",
        "def dijkstra_algorithm(graph, start_node):\n",
        "    global count_nodes_dijkstra\n",
        "    unvisited_nodes = list(graph.get_nodes())\n",
        "\n",
        "    #Initializing a dictionary to save cost of visiting each node \n",
        "    shortest_path = {}\n",
        "\n",
        "    #Initializing a dictionary to save the shortest known path to a node\n",
        "    previous_nodes = {}\n",
        "\n",
        "\n",
        "  # We'll use max_value to initialize the \"infinity\" value of the unvisited nodes   \n",
        "    max_value = sys.maxsize\n",
        "    for node in unvisited_nodes:\n",
        "        shortest_path[node] = max_value\n",
        "\n",
        "    # However, we initialize the starting node's value with 0   \n",
        "    shortest_path[start_node] = 0\n",
        "\n",
        "    # This function executes until we visit all nodes\n",
        "    while unvisited_nodes:\n",
        "        # finds node with lowest score\n",
        "        current_min_node = None\n",
        "        for node in unvisited_nodes: # Iterate over the nodes\n",
        "            count_nodes_dijkstra += 1\n",
        "            if current_min_node == None:\n",
        "                current_min_node = node\n",
        "            elif shortest_path[node] < shortest_path[current_min_node]:\n",
        "                current_min_node = node\n",
        "\n",
        "        # The code block below retrieves the current node's neighbors and updates their distances\n",
        "        neighbors = graph.get_outgoing_edges(current_min_node)\n",
        "        for neighbor in neighbors:\n",
        "            tentative_value = shortest_path[current_min_node] + graph.value(current_min_node, neighbor)\n",
        "            if tentative_value < shortest_path[neighbor]:\n",
        "                shortest_path[neighbor] = tentative_value\n",
        "                # We also update the best path to the current node\n",
        "                previous_nodes[neighbor] = current_min_node\n",
        "\n",
        "            # After visiting its neighbors, we mark the node as \"visited\"\n",
        "        unvisited_nodes.remove(current_min_node)\n",
        "    return previous_nodes, shortest_path\n",
        "\n",
        "# Helper function\n",
        "def print_result(previous_nodes, shortest_path, start_node, target_node):\n",
        "    path = []\n",
        "    node = target_node\n",
        "    \n",
        "    while node != start_node:\n",
        "        path.append(node)\n",
        "        node = previous_nodes[node]\n",
        " \n",
        "    # Add the start node manually\n",
        "    path.append(start_node)\n",
        "    \n",
        "    print(\"We found the following best path with a value of {}.\".format(shortest_path[target_node]))\n",
        "    print(\" -> \".join(reversed(path)))\n",
        "\n",
        "nodes = [\"A\", \"B\", \"C\", \"D\", \"E\", \"G\"]\n",
        "\n",
        "init_graph = {\n",
        "    'A': {'B': 2, 'E': 3},\n",
        "    'B': {'C': 1, 'G': 9, 'D': 7},\n",
        "    'D': {'G': 1},\n",
        "    'E': {'D': 6},\n",
        "    'C': {'G': 1},\n",
        "}\n",
        "\n",
        "graph = Graph(nodes, init_graph)\n",
        "previous_nodes, shortest_path = dijkstra_algorithm(graph=graph, start_node=\"A\")\n",
        "print_result(previous_nodes, shortest_path, start_node=\"A\", target_node=\"G\")\n",
        "print(\"Number of times a node is explored while traversing = \" + str(count_nodes_dijkstra))"
      ],
      "metadata": {
        "colab": {
          "base_uri": "https://localhost:8080/"
        },
        "id": "KJDCMMvUhxOi",
        "outputId": "2b69f800-7c97-4581-b245-e8d6a387dedd"
      },
      "execution_count": null,
      "outputs": [
        {
          "output_type": "stream",
          "name": "stdout",
          "text": [
            "We found the following best path with a value of 4.\n",
            "A -> B -> C -> G\n",
            "Number of times a node is explored while traversing = 21\n"
          ]
        }
      ]
    },
    {
      "cell_type": "markdown",
      "source": [
        "### Result\n",
        "\n",
        "Comparing the cost as number of nodes which get explored to get the solution.\n",
        "\n",
        "**A* Algorithm**   VS    **Dijkstra Algorithm**"
      ],
      "metadata": {
        "id": "1_JCrOtKLwuV"
      }
    },
    {
      "cell_type": "code",
      "source": [
        "print(\"Comparing the cost as number of nodes which get explored\")\n",
        "print(\"Number of Nodes for A* = \" + str(count_nodes_Astar))\n",
        "print(\"Number of Nodes for Dijkstra = \" + str(count_nodes_dijkstra))"
      ],
      "metadata": {
        "colab": {
          "base_uri": "https://localhost:8080/"
        },
        "id": "OJtifQey7Tng",
        "outputId": "6f122ec2-49fc-4b7f-9854-3fed420eea8b"
      },
      "execution_count": null,
      "outputs": [
        {
          "output_type": "stream",
          "name": "stdout",
          "text": [
            "Comparing the cost as number of nodes which get explored\n",
            "Number of Nodes for A* = 3\n",
            "Number of Nodes for Dijkstra = 21\n"
          ]
        }
      ]
    },
    {
      "cell_type": "markdown",
      "source": [
        "### Remarks\n",
        "\n",
        "\n",
        "A* algorithm is an updated implementation of the Djikstra's Algorithm. \n",
        "\n",
        "It can be seen that even though eventually, both Djikstra's and A* give the same path result, the cost as number of nodes get explored while traversing path is greatly different. \n",
        "\n",
        "While Djikstra's took about **21** explorations of multiple nodes, A* only took **3**.\n",
        "\n",
        "This huge improvement speaks greatly about A*'s implementation using heuristic function. \n",
        "\n",
        "Thus A* algorithm is a very smart algorithm, and it is much ahead of other conventional algorithms. \n",
        "\n",
        "A* is a signification improvement over Djikstra's algorithm and can be used as it's replacement to improve processing speed and minimize costs."
      ],
      "metadata": {
        "id": "JZtOVP3MMUpf"
      }
    }
  ]
}