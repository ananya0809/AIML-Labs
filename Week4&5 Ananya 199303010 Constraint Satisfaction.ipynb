{
  "nbformat": 4,
  "nbformat_minor": 0,
  "metadata": {
    "colab": {
      "name": "Constraint Satisfaction Week 4.ipynb",
      "provenance": []
    },
    "kernelspec": {
      "name": "python3",
      "display_name": "Python 3"
    },
    "language_info": {
      "name": "python"
    }
  },
  "cells": [
    {
      "cell_type": "markdown",
      "source": [
        "# CC 3230( AI  and Machine Learning Lab.)\n",
        "Date:- 14.02.2022 & 21.02.2022 ( 9:00- 10:30 AM)\n",
        "Week- 4 & 5\n",
        "Technique: Constraint Satisfaction Problem \n",
        "Problem: CSP\n",
        "\n",
        "Name: Ananya Agrawal\n",
        "\n",
        "Registration Number: 199303010\n",
        "\n",
        "#### Title: CC3230 A-3( Apply Constraint Satisfaction to diff. problems)\n",
        "\n",
        "Submission Date: 24/02/2022"
      ],
      "metadata": {
        "id": "mCu9OdDlB_bJ"
      }
    },
    {
      "cell_type": "markdown",
      "source": [
        "#### About Constraint Satisfaction Problems\n",
        "\n",
        "Constraint satisfaction is a technique where a problem is solved when its values satisfy certain constraints or rules of the problem.\n",
        "\n",
        "In a CSP, we have a set of variables with known domains and a set of constraints that impose restrictions on the values those variables can take. Our task is to assign a value to each variable so that we fulfill all the constraints.\n",
        "\n",
        "So, to formally define a CSP, we specify:\n",
        "\n",
        "**X**: It is a set of variables.\n",
        "\n",
        "**D**: It is a set of domains where the variables reside. There is a specific domain for each variable.\n",
        "\n",
        "**C**: It is a set of constraints which are followed by the set of variables. Where each can involve any number of variables.\n",
        "\n",
        "In constraint satisfaction, domains are the spaces where the variables reside, following the problem specific constraints. These are the three main elements of a constraint satisfaction technique. The constraint value consists of a pair of {scope, rel}. The scope is a tuple of variables which participate in the constraint and rel is a relation which includes a list of values which the variables can take to satisfy the constraints of the problem."
      ],
      "metadata": {
        "id": "tnsxSX2KgZh_"
      }
    },
    {
      "cell_type": "markdown",
      "source": [
        "#### Constraint Satisfaction Problem\n",
        "\n",
        "The requirements to solve a constraint satisfaction problem (CSP) is:\n",
        "\n",
        "A state-space\n",
        "The notion of the solution.\n",
        "A state in state-space is defined by assigning values to some or all variables such as\n",
        "\n",
        "{X1=v1, X2=v2, and so on…}.\n",
        "\n",
        "The domains and variables together determine a set of all possible assignments (solutions) that can be complete or partial. Finding the one(s) that satisfy all the constraints is a search problem like finding the shortest path between two nodes in a graph. \n",
        "\n",
        "The CSP search graph’s nodes represent the assignments, and an edge from node {u} to vertex {v} corresponds to a change in a single variable.\n",
        "\n",
        "The start node is the empty solution, with all variables unassigned. Each time when we cross an edge, we change the value of exactly one variable. The search stops when we find the complete assignment that satisfies all the constraints. The constraint satisfaction check corresponds to the goal test in the general search."
      ],
      "metadata": {
        "id": "N7cEQ99WhSTP"
      }
    },
    {
      "cell_type": "markdown",
      "source": [
        "#### Procedure\n",
        "\n",
        "1. Install the python-constraint library\n",
        "  - The Python constraint module offers solvers for Constraint Satisfaction Problems (CSPs) over finite domains in simple and pure Python. CSP is class of problems which may be represented in terms of variables (a, b, …), domains (a in [1, 2, 3], …), and constraints (a < b, …).\n",
        "  - It helps in solving problems using:\n",
        "      * Backtracking solver\n",
        "      * Recursive backtracking solver\n",
        "      * Minimum conflicts solver\n",
        "  - Predefined constraint types available in this library:\n",
        "      * FunctionConstraint\n",
        "      * AllDifferentConstraint\n",
        "      * AllEqualConstraint\n",
        "      * ExactSumConstraint\n",
        "      * MaxSumConstraint\n",
        "      * MinSumConstraint\n",
        "      * InSetConstraint\n",
        "      * NotInSetConstraint\n",
        "      * SomeInSetConstraint\n",
        "      * SomeNotInSetConstraint"
      ],
      "metadata": {
        "id": "Yv8o3cukk2El"
      }
    },
    {
      "cell_type": "code",
      "source": [
        "!pip install python-constraint"
      ],
      "metadata": {
        "colab": {
          "base_uri": "https://localhost:8080/"
        },
        "id": "96BmUAFMZlpF",
        "outputId": "99edd6c9-8dcd-4e3f-f92c-a8ad73b0cf22"
      },
      "execution_count": null,
      "outputs": [
        {
          "output_type": "stream",
          "name": "stdout",
          "text": [
            "Collecting python-constraint\n",
            "  Downloading python-constraint-1.4.0.tar.bz2 (18 kB)\n",
            "Building wheels for collected packages: python-constraint\n",
            "  Building wheel for python-constraint (setup.py) ... \u001b[?25l\u001b[?25hdone\n",
            "  Created wheel for python-constraint: filename=python_constraint-1.4.0-py2.py3-none-any.whl size=24081 sha256=244bf893f963c630ba1780d172aad33ad650d8a2f6e40f02711789c1fc212185\n",
            "  Stored in directory: /root/.cache/pip/wheels/07/27/db/1222c80eb1e431f3d2199c12569cb1cac60f562a451fe30479\n",
            "Successfully built python-constraint\n",
            "Installing collected packages: python-constraint\n",
            "Successfully installed python-constraint-1.4.0\n"
          ]
        }
      ]
    },
    {
      "cell_type": "markdown",
      "source": [
        "#### Basics\n",
        "\n",
        "A basic problem of constaint satisfaction where the constaint is defined in the addConstraint function."
      ],
      "metadata": {
        "id": "OD8NQHRkeW5R"
      }
    },
    {
      "cell_type": "code",
      "execution_count": null,
      "metadata": {
        "colab": {
          "base_uri": "https://localhost:8080/"
        },
        "id": "eejxGd4EZPkl",
        "outputId": "c925b276-58d4-4918-b16c-c3370a10078c"
      },
      "outputs": [
        {
          "output_type": "stream",
          "name": "stdout",
          "text": [
            "Before adding contraints: [{'a': 3, 'b': 6}, {'a': 3, 'b': 5}, {'a': 3, 'b': 4}, {'a': 2, 'b': 6}, {'a': 2, 'b': 5}, {'a': 2, 'b': 4}, {'a': 1, 'b': 6}, {'a': 1, 'b': 5}, {'a': 1, 'b': 4}]\n",
            "After adding contraints: [{'a': 3, 'b': 1}, {'a': 3, 'b': 2}, {'a': 2, 'b': 3}, {'a': 2, 'b': 1}, {'a': 1, 'b': 2}, {'a': 1, 'b': 3}]\n"
          ]
        }
      ],
      "source": [
        "from constraint import *\n",
        "problem = Problem()\n",
        "problem.addVariable(\"a\", [1,2,3])\n",
        "problem.addVariable(\"b\", [4,5,6])\n",
        "problem.getSolutions()\n",
        "sol = problem.getSolutions()\n",
        "print(\"Before adding contraints: \" + str(sol))\n",
        "problem.addConstraint(lambda a, b: a*2 == b,(\"a\", \"b\"))\n",
        "problem.getSolutions()\n",
        "problem = Problem()\n",
        "problem.addVariables([\"a\", \"b\"], [1, 2, 3])\n",
        "problem.addConstraint(AllDifferentConstraint())\n",
        "problem.getSolutions()\n",
        "sol_final = problem.getSolutions()\n",
        "print(\"After adding contraints: \" + str(sol_final))"
      ]
    },
    {
      "cell_type": "markdown",
      "source": [
        "#### N-Rooks Problem\n",
        "\n",
        "A chess related problem consisting of N number of rooks on a chess board and their positions with respect to one another along the rows and columns of the chess board.\n",
        "\n",
        "Here, the constraint is that no two rooks can be present in the same row or column."
      ],
      "metadata": {
        "id": "wi74vr7weZcA"
      }
    },
    {
      "cell_type": "code",
      "source": [
        "problem = Problem()\n",
        "numpieces = 5 # 1 + actual number of rooks\n",
        "cols = range(1,numpieces)\n",
        "rows = range(1,numpieces)\n",
        "problem.addVariables(cols, rows)\n",
        "for col1 in cols:\n",
        "    for col2 in cols:\n",
        "        if col1 < col2:\n",
        "            problem.addConstraint(lambda row1, row2: row1 != row2,(col1, col2)) # Constraint for 2 rooks to not be in same row or column\n",
        "problem.getSolutions() # Combinations of solution for 4 Rooks"
      ],
      "metadata": {
        "colab": {
          "base_uri": "https://localhost:8080/"
        },
        "id": "WX6n8aP6eh5v",
        "outputId": "6ddbc798-0046-47a4-8e39-1b3518cc492f"
      },
      "execution_count": null,
      "outputs": [
        {
          "output_type": "execute_result",
          "data": {
            "text/plain": [
              "[{1: 4, 2: 3, 3: 2, 4: 1},\n",
              " {1: 4, 2: 3, 3: 1, 4: 2},\n",
              " {1: 4, 2: 2, 3: 3, 4: 1},\n",
              " {1: 4, 2: 2, 3: 1, 4: 3},\n",
              " {1: 4, 2: 1, 3: 2, 4: 3},\n",
              " {1: 4, 2: 1, 3: 3, 4: 2},\n",
              " {1: 3, 2: 4, 3: 1, 4: 2},\n",
              " {1: 3, 2: 4, 3: 2, 4: 1},\n",
              " {1: 3, 2: 2, 3: 4, 4: 1},\n",
              " {1: 3, 2: 2, 3: 1, 4: 4},\n",
              " {1: 3, 2: 1, 3: 2, 4: 4},\n",
              " {1: 3, 2: 1, 3: 4, 4: 2},\n",
              " {1: 2, 2: 3, 3: 1, 4: 4},\n",
              " {1: 2, 2: 3, 3: 4, 4: 1},\n",
              " {1: 2, 2: 4, 3: 3, 4: 1},\n",
              " {1: 2, 2: 4, 3: 1, 4: 3},\n",
              " {1: 2, 2: 1, 3: 4, 4: 3},\n",
              " {1: 2, 2: 1, 3: 3, 4: 4},\n",
              " {1: 1, 2: 2, 3: 4, 4: 3},\n",
              " {1: 1, 2: 2, 3: 3, 4: 4},\n",
              " {1: 1, 2: 3, 3: 2, 4: 4},\n",
              " {1: 1, 2: 3, 3: 4, 4: 2},\n",
              " {1: 1, 2: 4, 3: 3, 4: 2},\n",
              " {1: 1, 2: 4, 3: 2, 4: 3}]"
            ]
          },
          "metadata": {},
          "execution_count": 24
        }
      ]
    },
    {
      "cell_type": "markdown",
      "source": [
        "#### Magic Squares\n",
        "\n",
        "A classical problem of Magic Squares where:\n",
        "  - if there are 4x4 squares, the sum constraint must be 34\n",
        "  - if there are 3x3 squares, the sum constraint must be 15\n",
        "\n",
        "So, the sum of all elements in a particular row, column and diagonal must be equal to the sum constraint (ExactSumConstraint function)."
      ],
      "metadata": {
        "id": "4LorF4TSfKvv"
      }
    },
    {
      "cell_type": "code",
      "source": [
        "problem = Problem()\n",
        "problem.addVariables(range(0, 9), range(1, 9 + 1)) # 3x3 magic square with magic number = 15\n",
        "problem.addConstraint(AllDifferentConstraint(), range(0, 9))\n",
        "problem.addConstraint(ExactSumConstraint(15), [0, 4, 8]) # sum of diagonals must be = 15\n",
        "problem.addConstraint(ExactSumConstraint(15), [2, 4, 6]) # sum of diagonals must be = 15\n",
        "for row in range(3):\n",
        "    problem.addConstraint(ExactSumConstraint(15),[row * 3 + i for i in range(3)]) # sum of rows must be = 15\n",
        "for col in range(3):\n",
        "    problem.addConstraint(ExactSumConstraint(15),[col + 3 * i for i in range(3)]) # sum of columns must be = 15\n",
        "problem.getSolutions()"
      ],
      "metadata": {
        "id": "Npxn1_VPfOlY",
        "colab": {
          "base_uri": "https://localhost:8080/"
        },
        "outputId": "bb26a952-b78a-495b-cbcd-067c921469a6"
      },
      "execution_count": null,
      "outputs": [
        {
          "output_type": "execute_result",
          "data": {
            "text/plain": [
              "[{0: 6, 1: 7, 2: 2, 3: 1, 4: 5, 5: 9, 6: 8, 7: 3, 8: 4},\n",
              " {0: 6, 1: 1, 2: 8, 3: 7, 4: 5, 5: 3, 6: 2, 7: 9, 8: 4},\n",
              " {0: 8, 1: 1, 2: 6, 3: 3, 4: 5, 5: 7, 6: 4, 7: 9, 8: 2},\n",
              " {0: 8, 1: 3, 2: 4, 3: 1, 4: 5, 5: 9, 6: 6, 7: 7, 8: 2},\n",
              " {0: 4, 1: 3, 2: 8, 3: 9, 4: 5, 5: 1, 6: 2, 7: 7, 8: 6},\n",
              " {0: 4, 1: 9, 2: 2, 3: 3, 4: 5, 5: 7, 6: 8, 7: 1, 8: 6},\n",
              " {0: 2, 1: 7, 2: 6, 3: 9, 4: 5, 5: 1, 6: 4, 7: 3, 8: 8},\n",
              " {0: 2, 1: 9, 2: 4, 3: 7, 4: 5, 5: 3, 6: 6, 7: 1, 8: 8}]"
            ]
          },
          "metadata": {},
          "execution_count": 37
        }
      ]
    },
    {
      "cell_type": "markdown",
      "source": [
        "#### TWO + TWO = FOUR\n",
        "\n",
        "A cryptoarithmetic problem where the variables T,W,O,F,U,R should have different numerical values in the domain [0-9] such that they satisfy the sum constraint, i.e.,\n",
        "\n",
        "O + O = R\n",
        "\n",
        "W + W = U\n",
        "\n",
        "T + T = O\n",
        "\n",
        "carry overs in F"
      ],
      "metadata": {
        "id": "AVukdZ_JjN1r"
      }
    },
    {
      "cell_type": "code",
      "source": [
        "import constraint\n",
        "\n",
        "problem = constraint.Problem()\n",
        "\n",
        "# We're using .addVariables() this time since we're adding\n",
        "# multiple variables that have the same interval.\n",
        "# Since Strings are arrays of characters we can write\n",
        "# \"TF\" instead of ['T','F'].\n",
        "problem.addVariables(\"TF\", range(1, 10))\n",
        "problem.addVariables(\"WOUR\", range(10))\n",
        "\n",
        "# Telling Python that we need TWO + TWO = FOUR\n",
        "def sum_constraint(t, w, o, f, u, r):\n",
        "    if 2*(t*100 + w*10 + o) == f*1000 + o*100 + u*10 + r:\n",
        "        return True\n",
        "\n",
        "# Adding our custom constraint. The\n",
        "# order of variables is important!\n",
        "problem.addConstraint(sum_constraint, \"TWOFUR\")\n",
        "\n",
        "# All the characters must represent different digits,\n",
        "# there's a built-in constraint for that\n",
        "problem.addConstraint(constraint.AllDifferentConstraint())\n",
        "\n",
        "solutions = problem.getSolutions()\n",
        "print(\"Number of solutions found: {}\\n\".format(len(solutions)))\n",
        "\n",
        "# .getSolutions() returns a dictionary\n",
        "for s in solutions:\n",
        "    print(\"T = {}, W = {}, O = {}, F = {}, U = {}, R = {}\"\n",
        "        .format(s['T'], s['W'], s['O'], s['F'], s['U'], s['R']))"
      ],
      "metadata": {
        "colab": {
          "base_uri": "https://localhost:8080/"
        },
        "id": "RNoD6TsYixLq",
        "outputId": "2f598341-a404-4b33-bec1-4843c0d445fa"
      },
      "execution_count": null,
      "outputs": [
        {
          "output_type": "stream",
          "name": "stdout",
          "text": [
            "Number of solutions found: 7\n",
            "\n",
            "T = 7, W = 6, O = 5, F = 1, U = 3, R = 0\n",
            "T = 7, W = 3, O = 4, F = 1, U = 6, R = 8\n",
            "T = 8, W = 6, O = 7, F = 1, U = 3, R = 4\n",
            "T = 8, W = 4, O = 6, F = 1, U = 9, R = 2\n",
            "T = 8, W = 3, O = 6, F = 1, U = 7, R = 2\n",
            "T = 9, W = 2, O = 8, F = 1, U = 5, R = 6\n",
            "T = 9, W = 3, O = 8, F = 1, U = 7, R = 6\n"
          ]
        }
      ]
    },
    {
      "cell_type": "markdown",
      "source": [
        "#### SEND + MORE = MONEY\n",
        "\n",
        "A cryptoarithmetic problem where the variables S,E,N,D,M,O,R,Y should have different numerical values in the domain [0-9] such that they satisfy the sum constraint, i.e.,\n",
        "\n",
        "D + E = Y\n",
        "\n",
        "N + R = E\n",
        "\n",
        "E + O = N\n",
        "\n",
        "S + M = O\n",
        "\n",
        "carry overs in M"
      ],
      "metadata": {
        "id": "g70cg3AtXUH5"
      }
    },
    {
      "cell_type": "code",
      "source": [
        "from constraint import *\n",
        "\n",
        "problem = Problem()\n",
        "\n",
        "# SEND+MORE=MONEY\n",
        "\n",
        "problem.addVariables(\"SM\", range(1, 10))\n",
        "problem.addVariables(\"ENDORY\", range(10))\n",
        "\n",
        "def sum_constraint(s, m, e, n, d, o, r, y):\n",
        "  if (s*1000 + e*100 + n*10 + d*1) + (m*1000 + o*100 + r*10 + e*1) == (m*10000 + o*1000 + n*100 + e*10 + y*1):\n",
        "    return True\n",
        "\n",
        "problem.addConstraint(sum_constraint, \"SMENDORY\")\n",
        "problem.addConstraint(AllDifferentConstraint()) # finds constraints where all values are unique\n",
        "\n",
        "solutions = problem.getSolutions()\n",
        "print(\"Number of solutions found: {}\\n\".format(len(solutions)))\n",
        "\n",
        "# .getSolutions() returns a dictionary\n",
        "for s in solutions:\n",
        "    print(\"S = {}, E = {}, N = {}, D = {}, M = {}, O = {}, R = {}, Y = {}\"\n",
        "        .format(s['S'], s['E'], s['N'], s['D'], s['M'], s['O'], s['R'], s['Y']))"
      ],
      "metadata": {
        "colab": {
          "base_uri": "https://localhost:8080/"
        },
        "id": "WzeYnbCCXXod",
        "outputId": "5984a716-00be-4725-cb7d-6de2ff2f6831"
      },
      "execution_count": null,
      "outputs": [
        {
          "output_type": "stream",
          "name": "stdout",
          "text": [
            "Number of solutions found: 1\n",
            "\n",
            "S = 9, E = 5, N = 6, D = 7, M = 1, O = 0, R = 8, Y = 2\n"
          ]
        }
      ]
    },
    {
      "cell_type": "markdown",
      "source": [
        "#### N-Queen\n",
        "\n",
        "A chess related problem consisting of N number of queens on a chess board and their positions with respect to one another along the rows and columns of the chess board.\n",
        "\n",
        "Here, the constraint is that no two queens can be present in the same row, same column or same diagonal."
      ],
      "metadata": {
        "id": "VyUjXNQ9iThP"
      }
    },
    {
      "cell_type": "code",
      "source": [
        "problem = Problem()\n",
        "numpieces = 5 # 1 + actual number of queens\n",
        "column = range(1,numpieces)\n",
        "rows = range(1,numpieces)  # 4-Queen Problem\n",
        "problem.addVariables(column, rows)\n",
        "\n",
        "for column1 in column:\n",
        "    for column2 in column:\n",
        "        if column1 < column2:\n",
        "            problem.addConstraint(lambda row1, row2, column1=column1, column2=column2: \n",
        "                abs(row1-row2) != abs(column1-column2) and # constraint for 2 Queens to not be in same row, column or diagonal\n",
        "                row1 != row2, (column1, column2))\n",
        "\n",
        "problem.getSolutions() # Combination of solutions for 4 Queens"
      ],
      "metadata": {
        "colab": {
          "base_uri": "https://localhost:8080/"
        },
        "id": "lFkiWuQBiNpt",
        "outputId": "24d16fcf-78d2-4e61-fb64-a4014a78324a"
      },
      "execution_count": null,
      "outputs": [
        {
          "output_type": "execute_result",
          "data": {
            "text/plain": [
              "[{1: 3, 2: 1, 3: 4, 4: 2}, {1: 2, 2: 4, 3: 1, 4: 3}]"
            ]
          },
          "metadata": {},
          "execution_count": 18
        }
      ]
    },
    {
      "cell_type": "markdown",
      "source": [
        "#### Missionary Cannibal Problem\n",
        "\n",
        "In this problem, three missionaries and three cannibals must cross a river using a boat which can carry at most two people, under the constraint that, for both banks, that the missionaries present on the bank cannot be outnumbered by cannibals. The boat cannot cross the river by itself with no people on board."
      ],
      "metadata": {
        "id": "sL4bOLdPoNvS"
      }
    },
    {
      "cell_type": "code",
      "source": [
        "import math\n",
        "\n",
        "class State():\n",
        "\tdef __init__(self, cannibalLeft, missionaryLeft, boat, cannibalRight, missionaryRight):\n",
        "\t\tself.cannibalLeft = cannibalLeft\n",
        "\t\tself.missionaryLeft = missionaryLeft\n",
        "\t\tself.boat = boat\n",
        "\t\tself.cannibalRight = cannibalRight\n",
        "\t\tself.missionaryRight = missionaryRight\n",
        "\t\tself.parent = None\n",
        "\n",
        "\tdef is_goal(self):\n",
        "\t\tif self.cannibalLeft == 0 and self.missionaryLeft == 0:\n",
        "\t\t\treturn True\n",
        "\t\telse:\n",
        "\t\t\treturn False\n",
        "\n",
        "\tdef is_valid(self):\n",
        "\t\tif self.missionaryLeft >= 0 and self.missionaryRight >= 0 \\\n",
        "                   and self.cannibalLeft >= 0 and self.cannibalRight >= 0 \\\n",
        "                   and (self.missionaryLeft == 0 or self.missionaryLeft >= self.cannibalLeft) \\\n",
        "                   and (self.missionaryRight == 0 or self.missionaryRight >= self.cannibalRight):\n",
        "\t\t\treturn True\n",
        "\t\telse:\n",
        "\t\t\treturn False\n",
        "\n",
        "\tdef __eq__(self, other):\n",
        "\t\treturn self.cannibalLeft == other.cannibalLeft and self.missionaryLeft == other.missionaryLeft \\\n",
        "                   and self.boat == other.boat and self.cannibalRight == other.cannibalRight \\\n",
        "                   and self.missionaryRight == other.missionaryRight\n",
        "\n",
        "\tdef __hash__(self):\n",
        "\t\treturn hash((self.cannibalLeft, self.missionaryLeft, self.boat, self.cannibalRight, self.missionaryRight))\n",
        "\n",
        "def successors(cur_state):\n",
        "\tchildren = [];\n",
        "\tif cur_state.boat == 'left':\n",
        "\t\tnew_state = State(cur_state.cannibalLeft, cur_state.missionaryLeft - 2, 'right',\n",
        "                                  cur_state.cannibalRight, cur_state.missionaryRight + 2)\n",
        "\t\t## Two missionaries cross left to right.\n",
        "\t\tif new_state.is_valid():\n",
        "\t\t\tnew_state.parent = cur_state\n",
        "\t\t\tchildren.append(new_state)\n",
        "\t\tnew_state = State(cur_state.cannibalLeft - 2, cur_state.missionaryLeft, 'right',\n",
        "                                  cur_state.cannibalRight + 2, cur_state.missionaryRight)\n",
        "\t\t## Two cannibals cross left to right.\n",
        "\t\tif new_state.is_valid():\n",
        "\t\t\tnew_state.parent = cur_state\n",
        "\t\t\tchildren.append(new_state)\n",
        "\t\tnew_state = State(cur_state.cannibalLeft - 1, cur_state.missionaryLeft - 1, 'right',\n",
        "                                  cur_state.cannibalRight + 1, cur_state.missionaryRight + 1)\n",
        "\t\t## One missionary and one cannibal cross left to right.\n",
        "\t\tif new_state.is_valid():\n",
        "\t\t\tnew_state.parent = cur_state\n",
        "\t\t\tchildren.append(new_state)\n",
        "\t\tnew_state = State(cur_state.cannibalLeft, cur_state.missionaryLeft - 1, 'right',\n",
        "                                  cur_state.cannibalRight, cur_state.missionaryRight + 1)\n",
        "\t\t## One missionary crosses left to right.\n",
        "\t\tif new_state.is_valid():\n",
        "\t\t\tnew_state.parent = cur_state\n",
        "\t\t\tchildren.append(new_state)\n",
        "\t\tnew_state = State(cur_state.cannibalLeft - 1, cur_state.missionaryLeft, 'right',\n",
        "                                  cur_state.cannibalRight + 1, cur_state.missionaryRight)\n",
        "\t\t## One cannibal crosses left to right.\n",
        "\t\tif new_state.is_valid():\n",
        "\t\t\tnew_state.parent = cur_state\n",
        "\t\t\tchildren.append(new_state)\n",
        "\telse:\n",
        "\t\tnew_state = State(cur_state.cannibalLeft, cur_state.missionaryLeft + 2, 'left',\n",
        "                                  cur_state.cannibalRight, cur_state.missionaryRight - 2)\n",
        "\t\t## Two missionaries cross right to left.\n",
        "\t\tif new_state.is_valid():\n",
        "\t\t\tnew_state.parent = cur_state\n",
        "\t\t\tchildren.append(new_state)\n",
        "\t\tnew_state = State(cur_state.cannibalLeft + 2, cur_state.missionaryLeft, 'left',\n",
        "                                  cur_state.cannibalRight - 2, cur_state.missionaryRight)\n",
        "\t\t## Two cannibals cross right to left.\n",
        "\t\tif new_state.is_valid():\n",
        "\t\t\tnew_state.parent = cur_state\n",
        "\t\t\tchildren.append(new_state)\n",
        "\t\tnew_state = State(cur_state.cannibalLeft + 1, cur_state.missionaryLeft + 1, 'left',\n",
        "                                  cur_state.cannibalRight - 1, cur_state.missionaryRight - 1)\n",
        "\t\t## One missionary and one cannibal cross right to left.\n",
        "\t\tif new_state.is_valid():\n",
        "\t\t\tnew_state.parent = cur_state\n",
        "\t\t\tchildren.append(new_state)\n",
        "\t\tnew_state = State(cur_state.cannibalLeft, cur_state.missionaryLeft + 1, 'left',\n",
        "                                  cur_state.cannibalRight, cur_state.missionaryRight - 1)\n",
        "\t\t## One missionary crosses right to left.\n",
        "\t\tif new_state.is_valid():\n",
        "\t\t\tnew_state.parent = cur_state\n",
        "\t\t\tchildren.append(new_state)\n",
        "\t\tnew_state = State(cur_state.cannibalLeft + 1, cur_state.missionaryLeft, 'left',\n",
        "                                  cur_state.cannibalRight - 1, cur_state.missionaryRight)\n",
        "\t\t## One cannibal crosses right to left.\n",
        "\t\tif new_state.is_valid():\n",
        "\t\t\tnew_state.parent = cur_state\n",
        "\t\t\tchildren.append(new_state)\n",
        "\treturn children\n",
        "\n",
        "def breadth_first_search():\n",
        "\tinitial_state = State(3,3,'left',0,0)\n",
        "\tif initial_state.is_goal():\n",
        "\t\treturn initial_state\n",
        "\tfrontier = list()\n",
        "\texplored = set()\n",
        "\tfrontier.append(initial_state)\n",
        "\twhile frontier:\n",
        "\t\tstate = frontier.pop(0)\n",
        "\t\tif state.is_goal():\n",
        "\t\t\treturn state\n",
        "\t\texplored.add(state)\n",
        "\t\tchildren = successors(state)\n",
        "\t\tfor child in children:\n",
        "\t\t\tif (child not in explored) or (child not in frontier):\n",
        "\t\t\t\tfrontier.append(child)\n",
        "\treturn None\n",
        "\n",
        "def print_solution(solution):\n",
        "\t\tpath = []\n",
        "\t\tpath.append(solution)\n",
        "\t\tparent = solution.parent\n",
        "\t\twhile parent:\n",
        "\t\t\tpath.append(parent)\n",
        "\t\t\tparent = parent.parent\n",
        "\n",
        "\t\tfor t in range(len(path)):\n",
        "\t\t\tstate = path[len(path) - t - 1]\n",
        "\t\t\tprint (\"(\" + str(state.cannibalLeft) + \",\\t\\t\" + str(state.missionaryLeft) \\\n",
        "                              + \",\\t\\t\" + state.boat + \",\\t\\t\" + str(state.cannibalRight) + \",\\t\\t\" + \\\n",
        "                              str(state.missionaryRight) + \")\")\n",
        "\n",
        "def main():\n",
        "\tsolution = breadth_first_search()\n",
        "\tprint (\"Missionaries and Cannibals solution:\")\n",
        "\tprint (\"cannibalLeft, missionaryLeft, boat, cannibalRight, missionaryRight\")\n",
        "\tprint_solution(solution)\n",
        "\n",
        "# if called from the command line, call main()\n",
        "if __name__ == \"__main__\":\n",
        "    main()"
      ],
      "metadata": {
        "colab": {
          "base_uri": "https://localhost:8080/"
        },
        "id": "ilWIrN0NWP1x",
        "outputId": "e0200a86-979f-4341-9963-c69369971384"
      },
      "execution_count": null,
      "outputs": [
        {
          "output_type": "stream",
          "name": "stdout",
          "text": [
            "Missionaries and Cannibals solution:\n",
            "cannibalLeft, missionaryLeft, boat, cannibalRight, missionaryRight\n",
            "(3,\t\t3,\t\tleft,\t\t0,\t\t0)\n",
            "(1,\t\t3,\t\tright,\t\t2,\t\t0)\n",
            "(2,\t\t3,\t\tleft,\t\t1,\t\t0)\n",
            "(0,\t\t3,\t\tright,\t\t3,\t\t0)\n",
            "(1,\t\t3,\t\tleft,\t\t2,\t\t0)\n",
            "(1,\t\t1,\t\tright,\t\t2,\t\t2)\n",
            "(2,\t\t2,\t\tleft,\t\t1,\t\t1)\n",
            "(2,\t\t0,\t\tright,\t\t1,\t\t3)\n",
            "(3,\t\t0,\t\tleft,\t\t0,\t\t3)\n",
            "(1,\t\t0,\t\tright,\t\t2,\t\t3)\n",
            "(1,\t\t1,\t\tleft,\t\t2,\t\t2)\n",
            "(0,\t\t0,\t\tright,\t\t3,\t\t3)\n"
          ]
        }
      ]
    },
    {
      "cell_type": "markdown",
      "source": [
        "#### Result\n",
        "\n",
        "The time taken for a problem to solve without constraints is more than that taken by it to get solved with constraints.\n",
        "\n",
        "As seen from the Basic problem, the number of solutions without constraint were more (9 solutions) compared to number of solutions after constraint (6 solutions), thus more number of explorations were done to solve the problem without constraint and it took more time."
      ],
      "metadata": {
        "id": "jCConV2soJzZ"
      }
    },
    {
      "cell_type": "markdown",
      "source": [
        "#### Remarks\n",
        "\n",
        "Constraint Satisfaction Problems can be solved using the python-constraint library which enables us to specify the various constraints in its specific library functions in order for us to find optimal solution or a combination of optimal solutions in lesser time with lesser number of explorations around the solutions.\n",
        "\n",
        "It solves various Branch 'n' Bound problems using lesser lines of code always gives the optimal answers to the problem.\n",
        "\n",
        "Constraint Satisfaction Problems help analyze the given variables, their domain and the mentioned constraints associated with a particular problem at hand in order to break the problem down into smaller sub-problems and apply the constraint to each sub-problem one at a time."
      ],
      "metadata": {
        "id": "JnSXKDZNtcg4"
      }
    }
  ]
}