{
  "nbformat": 4,
  "nbformat_minor": 0,
  "metadata": {
    "colab": {
      "name": "Hill_Climbing.ipynb",
      "provenance": []
    },
    "kernelspec": {
      "name": "python3",
      "display_name": "Python 3"
    },
    "language_info": {
      "name": "python"
    }
  },
  "cells": [
    {
      "cell_type": "markdown",
      "source": [
        "# CC 3230( AI  and Machine Learning Lab.)\n",
        "Date:- 31.01.2022( 9:00- 10:30 AM)\n",
        "Week-2\n",
        "Technique: Hill Climbing \n",
        "Problem: TSP\n",
        "\n",
        "Name: Ananya Agrawal\n",
        "\n",
        "Registration Number: 199303010\n",
        "\n",
        "#### Title: CC3230 A-1(Apply Hill Climbing Heuristic Search on TSP)\n",
        "\n",
        "Submission Date: 12/02/2022"
      ],
      "metadata": {
        "id": "n3xbsu_KQ0RJ"
      }
    },
    {
      "cell_type": "code",
      "source": [
        "from google.colab import drive\n",
        "drive.mount('/content/drive')"
      ],
      "metadata": {
        "colab": {
          "base_uri": "https://localhost:8080/"
        },
        "id": "ljjecTXfTkrM",
        "outputId": "28f652b0-fc66-4fbf-d535-68f919f4da1b"
      },
      "execution_count": null,
      "outputs": [
        {
          "output_type": "stream",
          "name": "stdout",
          "text": [
            "Mounted at /content/drive\n"
          ]
        }
      ]
    },
    {
      "cell_type": "markdown",
      "source": [
        "### About Hill Climbing:\n",
        "\n",
        "Hill Climbing is a local heuristic seach technique used for mathematical optimization problems in Artificial Intelligence.\n",
        "\n",
        "- It continuously moves in the direction of increasing elevation in order to find the peak of the mountain or the best solution to the optimization problem.\n",
        "\n",
        "- The most common example of Hill Climbing Algorithm is the Travelling Salesperson Problem where distance to be travelled by the salesman has to be minimized.\n",
        "\n",
        "- It is also called greedy local search as it only looks at its immediate neighbour states to find the best solution.\n",
        "\n",
        "- Hill Climbing is susceptible to 3 Problems:\n",
        "  1. **Local Maximum**: A local maximum is a peak state in the landscape which is better than each of its neighboring states, but there is another state also present which is higher than the local maximum.\n",
        "  - *Solution*: Backtracking technique can be a solution of the local maximum in state space landscape. Create a list of the promising path so that the algorithm can backtrack the search space and explore other paths as well.\n",
        "  2. **Plateau**: A plateau is the flat area of the search space in which all the neighbor states of the current state contains the same value, because of this algorithm does not find any best direction to move. A hill-climbing search might be lost in the plateau area.\n",
        "  - *Solution*: The solution for the plateau is to take big steps or very little steps while searching, to solve the problem. Randomly select a state which is far away from the current state so it is possible that the algorithm could find non-plateau region.\n",
        "  3. **Ridges**: A ridge is a special form of the local maximum. It has an area which is higher than its surrounding areas, but itself has a slope, and cannot be reached in a single move.\n",
        "  - *Solution*: With the use of bidirectional search, or by moving in different directions, we can improve this problem.\n"
      ],
      "metadata": {
        "id": "7ee5WETOcXFl"
      }
    },
    {
      "cell_type": "markdown",
      "source": [
        "### Travelling Salesperson Problem\n",
        "\n",
        "In TSP, we have a salesperson who needs to visit a number of cities exactly once, after which he has to return to the city he started with.\n",
        "\n",
        "The distances between each pair of cities are known, and the problem is to find the shortest route possible.\n",
        "\n",
        "As there are a large set of possible solutions/routes to a specific Travelling Salesperson Problem, the goal is to find the optimal solution that will give the shortest path.\n",
        "\n"
      ],
      "metadata": {
        "id": "Xie3F8XOfqyT"
      }
    },
    {
      "cell_type": "markdown",
      "source": [
        "### Procedure\n",
        "\n",
        "1. Using the Hill Climbing Algorithm, we will try to find the best solution to this problem by starting with generating a random solution, and then generate neighbours that would be other solutions only differing slightly from the current one.\n",
        "\n",
        "2. If the best of those neighbours is shorter than the current solution, it replaces the current solution with this better solution.\n",
        "\n",
        "3. Then it repeats the pattern by again creating neighbours.\n",
        "\n",
        "4. If at some point, no neighbour is better than the current solution, it returns the then current solution. "
      ],
      "metadata": {
        "id": "RmYZ3yRmpCle"
      }
    },
    {
      "cell_type": "code",
      "execution_count": null,
      "metadata": {
        "id": "OyhpFdK27Ks8"
      },
      "outputs": [],
      "source": [
        "##Import Libraries\n",
        "import random\n",
        "import numpy as np\n",
        "import networkx as nx"
      ]
    },
    {
      "cell_type": "markdown",
      "source": [
        "#### Instantiation\n",
        "\n",
        "Instantiation of list of cities, where each city has information about the distances from that city to other cities."
      ],
      "metadata": {
        "id": "3o-35G5vsUa-"
      }
    },
    {
      "cell_type": "code",
      "source": [
        "#coordinate of the points/cities\n",
        "#coordinate = np.array([[1,2], [30,21], [56,23], [8,18], [20,50], [3,4], [11,6], [6,7], \n",
        "                       #[15,20], [10,9], [12,12], [46,17], [60,55], [100,80], [16,13]])\n",
        "coordinate = np.array([[1,2], [30,21], [56,23], [8,18], [20,50]])"
      ],
      "metadata": {
        "id": "Zl-KpPfn7Zrh"
      },
      "execution_count": null,
      "outputs": []
    },
    {
      "cell_type": "markdown",
      "source": [
        "The distance from each city to itself will be ZERO and the distance to and from a city A and another city B will be the same.\n",
        "\n",
        "This will give us an adjacency matrix containing n cities and n distances between each pair of cities."
      ],
      "metadata": {
        "id": "Ne5UgOzHyblv"
      }
    },
    {
      "cell_type": "code",
      "source": [
        "#adjacency matrix for a weighted graph based on the given coordinates\n",
        "def generate_matrix(coordinate):\n",
        "    matrix = []\n",
        "    for i in range(len(coordinate)):\n",
        "        for j in range(len(coordinate)) :       \n",
        "            p = np.linalg.norm(coordinate[i] - coordinate[j])\n",
        "            matrix.append(p)\n",
        "    matrix = np.reshape(matrix, (len(coordinate),len(coordinate)))\n",
        "    #print(matrix)\n",
        "    return matrix"
      ],
      "metadata": {
        "id": "sxUDr8tD7g7g"
      },
      "execution_count": null,
      "outputs": []
    },
    {
      "cell_type": "code",
      "source": [
        "matrix = generate_matrix(coordinate)\n",
        "print(matrix)"
      ],
      "metadata": {
        "colab": {
          "base_uri": "https://localhost:8080/"
        },
        "id": "haJRgK8SUgWk",
        "outputId": "1c0fcc7b-f225-4005-debe-232507cbbc3e"
      },
      "execution_count": null,
      "outputs": [
        {
          "output_type": "stream",
          "name": "stdout",
          "text": [
            "[[ 0.         34.66987165 58.87274412 17.4642492  51.623638  ]\n",
            " [34.66987165  0.         26.07680962 22.20360331 30.6757233 ]\n",
            " [58.87274412 26.07680962  0.         48.25971405 45.        ]\n",
            " [17.4642492  22.20360331 48.25971405  0.         34.17601498]\n",
            " [51.623638   30.6757233  45.         34.17601498  0.        ]]\n"
          ]
        }
      ]
    },
    {
      "cell_type": "markdown",
      "source": [
        "#### Random Solution Generator\n",
        "\n",
        "For Hill climbing to work, it has to start with a random solution to our Travelling salesman problem.\n",
        "\n",
        "Here, a solution to the Travelling salesman problem could simply be a list of identifiers of all cities, in the order the salesman should visit them. Each city has to be visited exactly once.\n",
        "\n",
        "Therefore,\n",
        "1. Create a list of identifiers of all cities, and from there on iteratively pick a city from that list at random and add it to the solution.\n",
        "\n",
        "2. The range() function will create a range of all numbers from 0 to the given argument which is the length of the problem containing 1 entry per city.\n",
        "\n",
        "3. Every city can only be visited once, after its identifier is added to our solution we then remove that city’s identifier from the city identifier list.\n",
        "\n",
        "4. Here, the *import random* helps to create a random solution.\n"
      ],
      "metadata": {
        "id": "lOL0kOmzzA2D"
      }
    },
    {
      "cell_type": "code",
      "source": [
        "#finds a random solution    \n",
        "def solution(matrix):\n",
        "    points = list(range(0, len(matrix)))\n",
        "    solution = []\n",
        "    for i in range(0, len(matrix)):\n",
        "        random_point = points[random.randint(0, len(points) - 1)]\n",
        "        solution.append(random_point)\n",
        "        points.remove(random_point)\n",
        "\n",
        "    return solution"
      ],
      "metadata": {
        "id": "QcznB87S7zeG"
      },
      "execution_count": null,
      "outputs": []
    },
    {
      "cell_type": "code",
      "source": [
        "random_sol = solution(matrix)#prints coordinates of random solution\n",
        "print(random_sol)"
      ],
      "metadata": {
        "colab": {
          "base_uri": "https://localhost:8080/"
        },
        "id": "yhus2J0nUskz",
        "outputId": "eb83063c-fdb3-44db-db5b-f748b028c5aa"
      },
      "execution_count": null,
      "outputs": [
        {
          "output_type": "stream",
          "name": "stdout",
          "text": [
            "[1, 0, 3, 2, 4]\n"
          ]
        }
      ]
    },
    {
      "cell_type": "markdown",
      "source": [
        "#### Calculate Length of the Route\n",
        "\n",
        "Since we want our Hill climber to find the shortest solution, we need a function calculating the length of a specific solution.\n",
        "\n",
        "As, a solution is a list of all cities in a specific order, we can do so by iterating over a solution and use the matrix argument to add the distance to each new city to our total cycle length. \n",
        "\n",
        "- The iterator i “visits” each city, so i-1 is “at” the previous city or the last city when i equals 0.\n",
        "- solution[i] thus gives us the current city, and solution[i-1] gives us the previous one. \n",
        "- Then we simply use the matrix to get the distance between these cities, which we add to the total length of the route (cycle_length).\n"
      ],
      "metadata": {
        "id": "-FMo9f6X1DUk"
      }
    },
    {
      "cell_type": "code",
      "source": [
        "#computes the path based on the random solution\n",
        "def path_length(matrix, solution):\n",
        "    cycle_length = 0\n",
        "    for i in range(0, len(solution)):\n",
        "        cycle_length += matrix[solution[i]][solution[i - 1]]\n",
        "    return cycle_length"
      ],
      "metadata": {
        "id": "gu9Kvh_y8LaX"
      },
      "execution_count": null,
      "outputs": []
    },
    {
      "cell_type": "code",
      "source": [
        "random_pathlen = path_length(matrix, random_sol)\n",
        "print(random_pathlen)"
      ],
      "metadata": {
        "colab": {
          "base_uri": "https://localhost:8080/"
        },
        "id": "H1ZLa4bkmIMU",
        "outputId": "0e372d59-ff9a-44a7-e5d5-a3a2dcf0577b"
      },
      "execution_count": null,
      "outputs": [
        {
          "output_type": "stream",
          "name": "stdout",
          "text": [
            "176.06955819170298\n"
          ]
        }
      ]
    },
    {
      "cell_type": "markdown",
      "source": [
        "#### Generating all Neighbours of a Solution\n",
        "\n",
        "Hill climbing works in part by generating all neighbouring solutions to the current solution.\n",
        "\n",
        "A neighbouring solution is a solution that’s only slightly different from the current solution.\n",
        "\n",
        "a neighbour still needs to be a correct solution: every city still needs to be visited exactly once.\n",
        "\n",
        "We can accomplish both by creating a neighbour as follows: copy the current solution, and then make two cities swap places!\n",
        "\n",
        "Since we want to create all neighbours to a solution, and need to make cities swap places, we need to create two for loops, one nested in the other, both iterating the current solution.\n",
        "\n",
        "Since swapping city A with city B is the same as swapping city B with city A, our second loop needs to only loop over those cities the first loop hasn’t looped over yet. Inside the second loop, we create our neighbour with the swapped cities and add it to our neighbours list."
      ],
      "metadata": {
        "id": "TkDR2-Y44tie"
      }
    },
    {
      "cell_type": "code",
      "source": [
        "#generate neighbors of the random solution by swapping cities and returns the neighbor\n",
        "def get_neighbors(solution):\n",
        "    neighbors = []\n",
        "    for i in range(len(solution)):\n",
        "        for j in range(i + 1, len(solution)):\n",
        "            neighbor = solution.copy()\n",
        "            neighbor[i] = solution[j]\n",
        "            neighbor[j] = solution[i]\n",
        "            neighbors.append(neighbor)\n",
        "    return neighbors"
      ],
      "metadata": {
        "id": "S9KmKNrOPnem"
      },
      "execution_count": null,
      "outputs": []
    },
    {
      "cell_type": "code",
      "source": [
        "test=solution(matrix)\n",
        "print(test)\n",
        "print(get_neighbors(test))"
      ],
      "metadata": {
        "colab": {
          "base_uri": "https://localhost:8080/"
        },
        "id": "8DKAYQBFVoCd",
        "outputId": "2bcdea12-f01e-47af-8849-7ca867ac326a"
      },
      "execution_count": null,
      "outputs": [
        {
          "output_type": "stream",
          "name": "stdout",
          "text": [
            "[4, 2, 0, 3, 1]\n",
            "[[2, 4, 0, 3, 1], [0, 2, 4, 3, 1], [3, 2, 0, 4, 1], [1, 2, 0, 3, 4], [4, 0, 2, 3, 1], [4, 3, 0, 2, 1], [4, 1, 0, 3, 2], [4, 2, 3, 0, 1], [4, 2, 1, 3, 0], [4, 2, 0, 1, 3]]\n"
          ]
        }
      ]
    },
    {
      "cell_type": "markdown",
      "source": [
        "#### Find Best Neighbor\n",
        "\n",
        "It first sets the bestNeighbor to the first neighbor in the list of neighbors (and best_path to its path_length), and then iterates over all neighbors.\n",
        "\n",
        "When a neighbor has a shorter route length, both best_neighbor and best_path are updated.\n"
      ],
      "metadata": {
        "id": "9Crtbc3P5u4m"
      }
    },
    {
      "cell_type": "code",
      "source": [
        "#returns the best neighbor\n",
        "def get_best_neighbor(matrix, neighbors):\n",
        "            \n",
        "    #assume that the first neighbor in the list is the best neighbor      \n",
        "    best_neighbor = neighbors[0]\n",
        "    best_path = path_length(matrix, best_neighbor)\n",
        "    \n",
        "    #check if there is a better neighbor\n",
        "    for neighbor in neighbors:\n",
        "        current_path = path_length(matrix, neighbor)\n",
        "        if current_path < best_path:\n",
        "            best_path = current_path\n",
        "            best_neighbor = neighbor\n",
        "    return best_neighbor, best_path"
      ],
      "metadata": {
        "id": "VO9gPh1gP0Qt"
      },
      "execution_count": null,
      "outputs": []
    },
    {
      "cell_type": "code",
      "source": [
        "matrix = generate_matrix(coordinate)\n",
        "print(get_best_neighbor(matrix,get_neighbors(solution(matrix))))"
      ],
      "metadata": {
        "colab": {
          "base_uri": "https://localhost:8080/"
        },
        "id": "IcI7JkOLZn_r",
        "outputId": "6e6fc787-00f2-4d89-e4f8-69813db8de3e"
      },
      "execution_count": null,
      "outputs": [
        {
          "output_type": "stream",
          "name": "stdout",
          "text": [
            "([2, 4, 3, 0, 1], 157.38694544537313)\n"
          ]
        }
      ]
    },
    {
      "cell_type": "markdown",
      "source": [
        "#### Hill Climbing Algorithm\n",
        "\n",
        "As long as the best neighbor is better than the current solution, we repeat the same pattern with the current solution each time being updated with the best neighbor. When this process stops, we return the current solution (and its current path length)."
      ],
      "metadata": {
        "id": "fSeMXMjC6bn4"
      }
    },
    {
      "cell_type": "code",
      "source": [
        "def hill_climbing(coordinate):\n",
        "    matrix = generate_matrix(coordinate)\n",
        "    current_solution = solution(matrix)\n",
        "    current_path = path_length(matrix, current_solution)\n",
        "    neighbors = get_neighbors(current_solution)\n",
        "    best_neighbor, best_neighbor_path = get_best_neighbor(matrix, neighbors)\n",
        "\n",
        "    while best_neighbor_path < current_path:\n",
        "        current_solution = best_neighbor\n",
        "        current_path = best_neighbor_path\n",
        "        neighbor = get_neighbors(current_solution)\n",
        "        best_neighbor, best_neighbor_path = get_best_neighbor(matrix, neighbor)\n",
        "\n",
        "    return current_path, current_solution"
      ],
      "metadata": {
        "id": "Dse46fY9QxmG"
      },
      "execution_count": null,
      "outputs": []
    },
    {
      "cell_type": "code",
      "source": [
        "def graph(coordinate):\n",
        "    final_solution = hill_climbing(coordinate)\n",
        "    G = nx.DiGraph()\n",
        "    temp = final_solution[1]\n",
        "    G.add_nodes_from(final_solution[1])\n",
        "    \n",
        "    for i in range(1, len(final_solution[1])):\n",
        "        G.add_edge(temp[i - 1], temp[i])\n",
        "    G.add_edge(temp[len(temp) - 1], temp[0])\n",
        "    color_map = []\n",
        "    for node in G:\n",
        "        if node == final_solution[1][0]:\n",
        "            color_map.append('lime')\n",
        "        else: \n",
        "            color_map.append('orange')\n",
        "    nx.draw(G, with_labels = True, node_color = color_map, node_size = 1000)\n",
        "    print(\"The solution is \\n\", final_solution[1], \"\\nThe path length is \\n\", final_solution[0])\n",
        "    return final_solution\n",
        "    \n",
        "fin_sol = graph(coordinate)\n",
        "optimal_sol = fin_sol[1]\n",
        "optimal_pathlen = fin_sol[0]"
      ],
      "metadata": {
        "colab": {
          "base_uri": "https://localhost:8080/",
          "height": 388
        },
        "id": "EhgWK2QGRtRt",
        "outputId": "c44d733c-ef21-4313-eb8c-230fe2be1329"
      },
      "execution_count": null,
      "outputs": [
        {
          "output_type": "stream",
          "name": "stdout",
          "text": [
            "The solution is \n",
            " [1, 2, 4, 3, 0] \n",
            "The path length is \n",
            " 157.38694544537313\n"
          ]
        },
        {
          "output_type": "display_data",
          "data": {
            "image/png": "[encoded data removed]",
            "text/plain": [
              "<Figure size 432x288 with 1 Axes>"
            ]
          },
          "metadata": {}
        }
      ]
    },
    {
      "cell_type": "markdown",
      "source": [
        "### Result"
      ],
      "metadata": {
        "id": "k5H09-tF7cmG"
      }
    },
    {
      "cell_type": "markdown",
      "source": [
        "##### Assignment: \n",
        "\n",
        "Comparison of random solution with optimal solution and their respective path lengths."
      ],
      "metadata": {
        "id": "6SVaq89wwGKw"
      }
    },
    {
      "cell_type": "code",
      "source": [
        "print(\"The random solution is \" + str(random_sol))\n",
        "print(\"The random path length is \" + str(random_pathlen))\n",
        "print(\"The optimal solution is \" + str(optimal_sol))\n",
        "print(\"The optimal path length is \" + str(optimal_pathlen))"
      ],
      "metadata": {
        "colab": {
          "base_uri": "https://localhost:8080/"
        },
        "id": "JL9diTbDdjDw",
        "outputId": "0dd305d7-d652-4438-a15c-6eca7ef8832f"
      },
      "execution_count": null,
      "outputs": [
        {
          "output_type": "stream",
          "name": "stdout",
          "text": [
            "The random solution is [1, 0, 3, 2, 4]\n",
            "The random path length is 176.06955819170298\n",
            "The optimal solution is [1, 2, 4, 3, 0]\n",
            "The optimal path length is 157.38694544537313\n"
          ]
        }
      ]
    },
    {
      "cell_type": "markdown",
      "source": [
        "#### Remarks\n",
        "\n",
        "By comparing Random Solution and Optimal Solution, it can be noted that the Hill Climbing algorithm always presents the same optimal solution compared to the random solution which gives us a different result everytime.\n",
        "\n",
        "By noting this difference it is important to understand that in order to get a decent result using random solution approach, the quality of the result cannot be guaranteed. Hill Climbing on the other hand takes a structured approach and gives us a usable result every single time.\n",
        "\n",
        "Here, in this example we considered 5 cities that had to be travelled by the salesperson, for which Hill Climbing Algorithm was able to provide an optimal solution considering it did not come across any of the problems it is susceptible to like, **Local Maxima**, **Plateau** and **Ridge**. However, if we had to consider 15 cities or more, we might run into a problem where Hill Climbing Algorithm would not be able to provide us the optimal path for traversal.\n",
        "\n",
        "It should be noted that Hill Climbing solution might not be able to deliver an optimal solution everytime, yet, for any given use case, Hill Climbing can be considered as the better approach to use in problem solving when compared to Random Solution."
      ],
      "metadata": {
        "id": "Ez4Gpuo_7qBl"
      }
    }
  ]
}