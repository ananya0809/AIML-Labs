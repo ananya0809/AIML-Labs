{
  "nbformat": 4,
  "nbformat_minor": 0,
  "metadata": {
    "kernelspec": {
      "display_name": "Python 3",
      "language": "python",
      "name": "python3"
    },
    "language_info": {
      "codemirror_mode": {
        "name": "ipython",
        "version": 3
      },
      "file_extension": ".py",
      "mimetype": "text/x-python",
      "name": "python",
      "nbconvert_exporter": "python",
      "pygments_lexer": "ipython3",
      "version": "3.8.3"
    },
    "colab": {
      "name": "Simple_Linear_Regression.ipynb",
      "provenance": []
    }
  },
  "cells": [
    {
      "cell_type": "markdown",
      "source": [
        "# CC 3230( AI  and Machine Learning Lab.)\n",
        "Date:- 28.02.2022( 9:00 - 10:30 AM)\n",
        "Week-6\n",
        "Technique: Simple Linear Regression\n",
        "Problem: Regression\n",
        "\n",
        "Name: Ananya Agrawal\n",
        "\n",
        "Registration Number: 199303010\n",
        "\n",
        "#### Title: CC3230 A-1\n",
        "\n",
        "Submission Date: 18/04/2022"
      ],
      "metadata": {
        "id": "l5aqzk9ke6TA"
      }
    },
    {
      "cell_type": "markdown",
      "source": [
        "### About Simple Linear Regression:\n",
        "\n",
        "Linear regression models provide a simple approach towards supervised learning.\n",
        "\n",
        "Linear implies the following: arranged in or extending along a straight or nearly straight line. Linear suggests that the relationship between dependent and independent variable can be expressed in a straight line.\n",
        "\n",
        "y = mx + c\n",
        "\n",
        "Linear regression is nothing but a manifestation of this simple equation.\n",
        "\n",
        "- y is the dependent variable i.e. the variable that needs to be estimated and predicted.\n",
        "- x is the independent variable i.e. the variable that is controllable. It is the input.\n",
        "- m is the slope. It determines what will be the angle of the line. It is the parameter denoted as β.\n",
        "- c is the intercept. A constant that determines the value of y when x is 0."
      ],
      "metadata": {
        "id": "l3m5und-v4q1"
      }
    },
    {
      "cell_type": "markdown",
      "source": [
        "The same equation of a line can be re-written as:\n",
        "\n",
        "![0_DXgNKwoIXUNeVj53.png](data:image/png;base64,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)\n",
        "\n",
        "β0 and β1 are two unknown constants that represent the intercept and slope. They are the parameters.\n",
        "ε is the error term."
      ],
      "metadata": {
        "id": "BScf2njTwMPF"
      }
    },
    {
      "cell_type": "code",
      "source": [
        "!pip install -U scikit-learn"
      ],
      "metadata": {
        "colab": {
          "base_uri": "https://localhost:8080/"
        },
        "id": "_0Du2o9d_XQc",
        "outputId": "d7fec50a-d9f6-4bd3-9bb6-dde44a1a444b"
      },
      "execution_count": null,
      "outputs": [
        {
          "output_type": "stream",
          "name": "stdout",
          "text": [
            "Requirement already satisfied: scikit-learn in /usr/local/lib/python3.7/dist-packages (1.0.2)\n",
            "Requirement already satisfied: joblib>=0.11 in /usr/local/lib/python3.7/dist-packages (from scikit-learn) (1.1.0)\n",
            "Requirement already satisfied: numpy>=1.14.6 in /usr/local/lib/python3.7/dist-packages (from scikit-learn) (1.21.5)\n",
            "Requirement already satisfied: threadpoolctl>=2.0.0 in /usr/local/lib/python3.7/dist-packages (from scikit-learn) (3.1.0)\n",
            "Requirement already satisfied: scipy>=1.1.0 in /usr/local/lib/python3.7/dist-packages (from scikit-learn) (1.4.1)\n"
          ]
        }
      ]
    },
    {
      "cell_type": "code",
      "metadata": {
        "colab": {
          "base_uri": "https://localhost:8080/",
          "height": 206
        },
        "id": "caew_cZavZIs",
        "outputId": "5cbe29aa-1f60-4067-e17a-ac9e6f83cab3"
      },
      "source": [
        "# Import Pandas Library, used for data manipulation\n",
        "# Import matplotlib, used to plot our data\n",
        "# Import nump for mathemtical operations\n",
        "import pandas as pd\n",
        "import matplotlib.pyplot as plt\n",
        "import numpy as np\n",
        "\n",
        "# Import our WeatherData and store it in the variable weather_data\n",
        "Obstetrics = pd.read_csv(\"Obstetrics.csv\") \n",
        "# Display the data in the notebook\n",
        "Obstetrics"
      ],
      "execution_count": null,
      "outputs": [
        {
          "output_type": "execute_result",
          "data": {
            "text/html": [
              "\n",
              "  <div id=\"df-bced65a2-e3e0-4ae7-aa4f-188b8e7072b2\">\n",
              "    <div class=\"colab-df-container\">\n",
              "      <div>\n",
              "<style scoped>\n",
              "    .dataframe tbody tr th:only-of-type {\n",
              "        vertical-align: middle;\n",
              "    }\n",
              "\n",
              "    .dataframe tbody tr th {\n",
              "        vertical-align: top;\n",
              "    }\n",
              "\n",
              "    .dataframe thead th {\n",
              "        text-align: right;\n",
              "    }\n",
              "</style>\n",
              "<table border=\"1\" class=\"dataframe\">\n",
              "  <thead>\n",
              "    <tr style=\"text-align: right;\">\n",
              "      <th></th>\n",
              "      <th>Estriol(mg/24h)</th>\n",
              "      <th>BirthWeight(g/1000)</th>\n",
              "    </tr>\n",
              "  </thead>\n",
              "  <tbody>\n",
              "    <tr>\n",
              "      <th>0</th>\n",
              "      <td>1</td>\n",
              "      <td>1</td>\n",
              "    </tr>\n",
              "    <tr>\n",
              "      <th>1</th>\n",
              "      <td>2</td>\n",
              "      <td>1</td>\n",
              "    </tr>\n",
              "    <tr>\n",
              "      <th>2</th>\n",
              "      <td>3</td>\n",
              "      <td>2</td>\n",
              "    </tr>\n",
              "    <tr>\n",
              "      <th>3</th>\n",
              "      <td>4</td>\n",
              "      <td>2</td>\n",
              "    </tr>\n",
              "    <tr>\n",
              "      <th>4</th>\n",
              "      <td>5</td>\n",
              "      <td>4</td>\n",
              "    </tr>\n",
              "  </tbody>\n",
              "</table>\n",
              "</div>\n",
              "      <button class=\"colab-df-convert\" onclick=\"convertToInteractive('df-bced65a2-e3e0-4ae7-aa4f-188b8e7072b2')\"\n",
              "              title=\"Convert this dataframe to an interactive table.\"\n",
              "              style=\"display:none;\">\n",
              "        \n",
              "  <svg xmlns=\"http://www.w3.org/2000/svg\" height=\"24px\"viewBox=\"0 0 24 24\"\n",
              "       width=\"24px\">\n",
              "    <path d=\"M0 0h24v24H0V0z\" fill=\"none\"/>\n",
              "    <path d=\"M18.56 5.44l.94 2.06.94-2.06 2.06-.94-2.06-.94-.94-2.06-.94 2.06-2.06.94zm-11 1L8.5 8.5l.94-2.06 2.06-.94-2.06-.94L8.5 2.5l-.94 2.06-2.06.94zm10 10l.94 2.06.94-2.06 2.06-.94-2.06-.94-.94-2.06-.94 2.06-2.06.94z\"/><path d=\"M17.41 7.96l-1.37-1.37c-.4-.4-.92-.59-1.43-.59-.52 0-1.04.2-1.43.59L10.3 9.45l-7.72 7.72c-.78.78-.78 2.05 0 2.83L4 21.41c.39.39.9.59 1.41.59.51 0 1.02-.2 1.41-.59l7.78-7.78 2.81-2.81c.8-.78.8-2.07 0-2.86zM5.41 20L4 18.59l7.72-7.72 1.47 1.35L5.41 20z\"/>\n",
              "  </svg>\n",
              "      </button>\n",
              "      \n",
              "  <style>\n",
              "    .colab-df-container {\n",
              "      display:flex;\n",
              "      flex-wrap:wrap;\n",
              "      gap: 12px;\n",
              "    }\n",
              "\n",
              "    .colab-df-convert {\n",
              "      background-color: #E8F0FE;\n",
              "      border: none;\n",
              "      border-radius: 50%;\n",
              "      cursor: pointer;\n",
              "      display: none;\n",
              "      fill: #1967D2;\n",
              "      height: 32px;\n",
              "      padding: 0 0 0 0;\n",
              "      width: 32px;\n",
              "    }\n",
              "\n",
              "    .colab-df-convert:hover {\n",
              "      background-color: #E2EBFA;\n",
              "      box-shadow: 0px 1px 2px rgba(60, 64, 67, 0.3), 0px 1px 3px 1px rgba(60, 64, 67, 0.15);\n",
              "      fill: #174EA6;\n",
              "    }\n",
              "\n",
              "    [theme=dark] .colab-df-convert {\n",
              "      background-color: #3B4455;\n",
              "      fill: #D2E3FC;\n",
              "    }\n",
              "\n",
              "    [theme=dark] .colab-df-convert:hover {\n",
              "      background-color: #434B5C;\n",
              "      box-shadow: 0px 1px 3px 1px rgba(0, 0, 0, 0.15);\n",
              "      filter: drop-shadow(0px 1px 2px rgba(0, 0, 0, 0.3));\n",
              "      fill: #FFFFFF;\n",
              "    }\n",
              "  </style>\n",
              "\n",
              "      <script>\n",
              "        const buttonEl =\n",
              "          document.querySelector('#df-bced65a2-e3e0-4ae7-aa4f-188b8e7072b2 button.colab-df-convert');\n",
              "        buttonEl.style.display =\n",
              "          google.colab.kernel.accessAllowed ? 'block' : 'none';\n",
              "\n",
              "        async function convertToInteractive(key) {\n",
              "          const element = document.querySelector('#df-bced65a2-e3e0-4ae7-aa4f-188b8e7072b2');\n",
              "          const dataTable =\n",
              "            await google.colab.kernel.invokeFunction('convertToInteractive',\n",
              "                                                     [key], {});\n",
              "          if (!dataTable) return;\n",
              "\n",
              "          const docLinkHtml = 'Like what you see? Visit the ' +\n",
              "            '<a target=\"_blank\" href=https://colab.research.google.com/notebooks/data_table.ipynb>data table notebook</a>'\n",
              "            + ' to learn more about interactive tables.';\n",
              "          element.innerHTML = '';\n",
              "          dataTable['output_type'] = 'display_data';\n",
              "          await google.colab.output.renderOutput(dataTable, element);\n",
              "          const docLink = document.createElement('div');\n",
              "          docLink.innerHTML = docLinkHtml;\n",
              "          element.appendChild(docLink);\n",
              "        }\n",
              "      </script>\n",
              "    </div>\n",
              "  </div>\n",
              "  "
            ],
            "text/plain": [
              "   Estriol(mg/24h)  BirthWeight(g/1000)\n",
              "0                1                    1\n",
              "1                2                    1\n",
              "2                3                    2\n",
              "3                4                    2\n",
              "4                5                    4"
            ]
          },
          "metadata": {},
          "execution_count": 18
        }
      ]
    },
    {
      "cell_type": "code",
      "metadata": {
        "scrolled": true,
        "id": "KfFA7eURvZIw",
        "colab": {
          "base_uri": "https://localhost:8080/",
          "height": 297
        },
        "outputId": "69f5c90f-7db9-4a66-825f-3520337a42b9"
      },
      "source": [
        "# Set x to our input Temperature\n",
        "x = Obstetrics['Estriol(mg/24h)']\n",
        "# Set y to our output humidity, this is the value we trying to predict\n",
        "y = Obstetrics['BirthWeight(g/1000)']\n",
        "\n",
        "# Plot Humidity against Temperature\n",
        "plt.scatter(x, y)\n",
        "# Add labels to the graph\n",
        "plt.xlabel('Estriol(mg/24h)')\n",
        "plt.ylabel('BirthWeight(g/1000)')"
      ],
      "execution_count": null,
      "outputs": [
        {
          "output_type": "execute_result",
          "data": {
            "text/plain": [
              "Text(0, 0.5, 'BirthWeight(g/1000)')"
            ]
          },
          "metadata": {},
          "execution_count": 19
        },
        {
          "output_type": "display_data",
          "data": {
            "image/png": "[encoded data removed]",
            "text/plain": [
              "<Figure size 432x288 with 1 Axes>"
            ]
          },
          "metadata": {
            "needs_background": "light"
          }
        }
      ]
    },
    {
      "cell_type": "code",
      "metadata": {
        "scrolled": true,
        "id": "74ECtJfOvZIx",
        "colab": {
          "base_uri": "https://localhost:8080/",
          "height": 297
        },
        "outputId": "0f23ebc3-403d-4916-bf8c-a7c1d481d46f"
      },
      "source": [
        "from sklearn.linear_model import LinearRegression\n",
        "from sklearn.model_selection import train_test_split\n",
        "x_train,x_test,y_train,y_test = train_test_split(x,y,test_size=0.60, random_state=6)\n",
        "y_train = y_train.values.reshape(-1,1)\n",
        "x_test = x_test.values.reshape(-1,1)\n",
        "y_test = y_test.values.reshape(-1,1)\n",
        "x_train = x_train.values.reshape(-1,1)\n",
        "my_model = LinearRegression()\n",
        "my_model.fit(x_train, y_train)\n",
        "y_pred = my_model.predict(x_test)\n",
        "\n",
        "plt.scatter(x_test, y_test)\n",
        "plt.xlabel('Estriol(mg/24h)')\n",
        "plt.ylabel('BirthWeight(g/1000)')\n",
        "\n",
        "plt.plot(x_test, y_pred)"
      ],
      "execution_count": null,
      "outputs": [
        {
          "output_type": "execute_result",
          "data": {
            "text/plain": [
              "[<matplotlib.lines.Line2D at 0x7f142f54b910>]"
            ]
          },
          "metadata": {},
          "execution_count": 20
        },
        {
          "output_type": "display_data",
          "data": {
            "image/png": "[encoded data removed]",
            "text/plain": [
              "<Figure size 432x288 with 1 Axes>"
            ]
          },
          "metadata": {
            "needs_background": "light"
          }
        }
      ]
    },
    {
      "cell_type": "code",
      "metadata": {
        "id": "mFHzQ8SWvZIy",
        "colab": {
          "base_uri": "https://localhost:8080/"
        },
        "outputId": "26465f81-38b7-41c9-ce4f-eb7357c24e40"
      },
      "source": [
        "beta_0 = my_model.intercept_\n",
        "beta_1 = my_model.coef_\n",
        "beta_0, beta_1"
      ],
      "execution_count": null,
      "outputs": [
        {
          "output_type": "execute_result",
          "data": {
            "text/plain": [
              "(array([-1.]), array([[1.]]))"
            ]
          },
          "metadata": {},
          "execution_count": 21
        }
      ]
    },
    {
      "cell_type": "code",
      "metadata": {
        "id": "8AC8OEk6vZIy",
        "colab": {
          "base_uri": "https://localhost:8080/"
        },
        "outputId": "e204bc6d-4692-4f23-e75f-e583912ea3a0"
      },
      "source": [
        "y_pred = my_model.predict(np.array([20]).reshape(1, 1))\n",
        "y_pred"
      ],
      "execution_count": null,
      "outputs": [
        {
          "output_type": "execute_result",
          "data": {
            "text/plain": [
              "array([[19.]])"
            ]
          },
          "metadata": {},
          "execution_count": 22
        }
      ]
    },
    {
      "cell_type": "markdown",
      "source": [
        "## Complete the Notebook by splitting the data and finding RMSE"
      ],
      "metadata": {
        "id": "AC2y9UHJuwkk"
      }
    },
    {
      "cell_type": "markdown",
      "source": [
        "#### Mean Absolute Error"
      ],
      "metadata": {
        "id": "uxO8CoEU_kQt"
      }
    },
    {
      "cell_type": "code",
      "source": [
        "from sklearn.metrics import mean_absolute_error\n",
        "mean_absolute_error(x_test, y_pred)"
      ],
      "metadata": {
        "colab": {
          "base_uri": "https://localhost:8080/"
        },
        "id": "7-CtliTa_m6Y",
        "outputId": "16176d78-2684-4a3e-d28f-38f69d19c049"
      },
      "execution_count": null,
      "outputs": [
        {
          "output_type": "execute_result",
          "data": {
            "text/plain": [
              "12.136248265062177"
            ]
          },
          "metadata": {},
          "execution_count": 11
        }
      ]
    },
    {
      "cell_type": "markdown",
      "source": [
        "##### Mean squared error"
      ],
      "metadata": {
        "id": "ElqEWWodAAEy"
      }
    },
    {
      "cell_type": "code",
      "source": [
        "from sklearn.metrics import mean_squared_error\n",
        "mean_squared_error(x_test, y_pred)"
      ],
      "metadata": {
        "colab": {
          "base_uri": "https://localhost:8080/"
        },
        "id": "_B2JYm8CAB3z",
        "outputId": "69f6fcef-08bf-487c-c549-91f3a9cd5869"
      },
      "execution_count": null,
      "outputs": [
        {
          "output_type": "execute_result",
          "data": {
            "text/plain": [
              "171.5274349336167"
            ]
          },
          "metadata": {},
          "execution_count": 13
        }
      ]
    },
    {
      "cell_type": "markdown",
      "source": [
        "#### Mean absolute percentage error"
      ],
      "metadata": {
        "id": "Gv6RIqAWARWl"
      }
    },
    {
      "cell_type": "code",
      "source": [
        "from sklearn.metrics import mean_absolute_percentage_error\n",
        "mean_absolute_percentage_error(x_test, y_pred)"
      ],
      "metadata": {
        "colab": {
          "base_uri": "https://localhost:8080/"
        },
        "id": "d9LT45AsAaPy",
        "outputId": "10179de5-bd8e-4c82-fa09-9636d8355059"
      },
      "execution_count": null,
      "outputs": [
        {
          "output_type": "execute_result",
          "data": {
            "text/plain": [
              "0.9315937411461632"
            ]
          },
          "metadata": {},
          "execution_count": 14
        }
      ]
    },
    {
      "cell_type": "markdown",
      "source": [
        "#### R² score, the coefficient of determination"
      ],
      "metadata": {
        "id": "6BAFkRNdAiV8"
      }
    },
    {
      "cell_type": "code",
      "source": [
        "from sklearn.metrics import r2_score\n",
        "r2_score(x_test, y_pred)"
      ],
      "metadata": {
        "colab": {
          "base_uri": "https://localhost:8080/"
        },
        "id": "7wzjmZXOAliH",
        "outputId": "ad113831-ef51-4946-976b-6d1981f8e386"
      },
      "execution_count": null,
      "outputs": [
        {
          "output_type": "execute_result",
          "data": {
            "text/plain": [
              "-6.616753657452962"
            ]
          },
          "metadata": {},
          "execution_count": 15
        }
      ]
    }
  ]
}